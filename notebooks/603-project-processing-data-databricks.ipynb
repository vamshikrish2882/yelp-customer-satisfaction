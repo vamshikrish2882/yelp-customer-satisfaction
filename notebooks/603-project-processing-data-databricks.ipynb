{
 "cells": [
  {
   "cell_type": "code",
   "execution_count": 0,
   "metadata": {
    "application/vnd.databricks.v1+cell": {
     "cellMetadata": {
      "byteLimit": 2048000,
      "rowLimit": 10000
     },
     "inputWidgets": {},
     "nuid": "d4d4003a-924c-467d-a45b-5c889a8c8442",
     "showTitle": false,
     "tableResultSettingsMap": {},
     "title": ""
    }
   },
   "outputs": [],
   "source": [
    "import os\n",
    "\n",
    "# Set the environment variable for Google Cloud credentials\n",
    "os.environ[\"GOOGLE_APPLICATION_CREDENTIALS\"] = \"/dbfs/FileStore/tables/promising-silo-374208-8b3d9c4e46c7.json\"\n"
   ]
  },
  {
   "cell_type": "markdown",
   "metadata": {
    "application/vnd.databricks.v1+cell": {
     "cellMetadata": {},
     "inputWidgets": {},
     "nuid": "9006620e-6e3f-4b48-b02b-279e1c21e42e",
     "showTitle": false,
     "tableResultSettingsMap": {},
     "title": ""
    }
   },
   "source": [
    "Using service account to access gcs from databricks"
   ]
  },
  {
   "cell_type": "code",
   "execution_count": 0,
   "metadata": {
    "application/vnd.databricks.v1+cell": {
     "cellMetadata": {
      "byteLimit": 2048000,
      "rowLimit": 10000
     },
     "inputWidgets": {},
     "nuid": "1d009e29-8f61-4839-bbcb-667d29df4b6d",
     "showTitle": false,
     "tableResultSettingsMap": {},
     "title": ""
    }
   },
   "outputs": [
    {
     "name": "stdout",
     "output_type": "stream",
     "text": [
      "/dbfs/FileStore/tables/promising-silo-374208-8b3d9c4e46c7.json\n"
     ]
    }
   ],
   "source": [
    "print(os.environ.get('GOOGLE_APPLICATION_CREDENTIALS'))"
   ]
  },
  {
   "cell_type": "markdown",
   "metadata": {
    "application/vnd.databricks.v1+cell": {
     "cellMetadata": {},
     "inputWidgets": {},
     "nuid": "dd0eab54-257b-4d8e-88bd-478357b04b6a",
     "showTitle": false,
     "tableResultSettingsMap": {},
     "title": ""
    }
   },
   "source": [
    "Mounting the data from cloud storage"
   ]
  },
  {
   "cell_type": "code",
   "execution_count": 0,
   "metadata": {
    "application/vnd.databricks.v1+cell": {
     "cellMetadata": {
      "byteLimit": 2048000,
      "rowLimit": 10000
     },
     "inputWidgets": {},
     "nuid": "d67d0f1f-4490-4ed6-a75f-0971efc521c3",
     "showTitle": false,
     "tableResultSettingsMap": {},
     "title": ""
    }
   },
   "outputs": [
    {
     "name": "stdout",
     "output_type": "stream",
     "text": [
      "/mnt/gcs-data has been unmounted.\n"
     ]
    },
    {
     "data": {
      "text/plain": [
       "True"
      ]
     },
     "execution_count": 43,
     "metadata": {},
     "output_type": "execute_result"
    }
   ],
   "source": [
    "dbutils.fs.unmount(\"/mnt/gcs-data\")"
   ]
  },
  {
   "cell_type": "code",
   "execution_count": 0,
   "metadata": {
    "application/vnd.databricks.v1+cell": {
     "cellMetadata": {
      "byteLimit": 2048000,
      "rowLimit": 10000
     },
     "inputWidgets": {},
     "nuid": "0cfed9c3-c95b-4a67-9a59-ec19e247c8b9",
     "showTitle": false,
     "tableResultSettingsMap": {},
     "title": ""
    }
   },
   "outputs": [
    {
     "data": {
      "text/plain": [
       "[MountInfo(mountPoint='/databricks-datasets', source='databricks-datasets', encryptionType=''),\n",
       " MountInfo(mountPoint='/Volumes', source='UnityCatalogVolumes', encryptionType=''),\n",
       " MountInfo(mountPoint='/databricks/mlflow-tracking', source='databricks/mlflow-tracking', encryptionType=''),\n",
       " MountInfo(mountPoint='/databricks-results', source='databricks-results', encryptionType=''),\n",
       " MountInfo(mountPoint='/databricks/mlflow-registry', source='databricks/mlflow-registry', encryptionType=''),\n",
       " MountInfo(mountPoint='/Volume', source='DbfsReserved', encryptionType=''),\n",
       " MountInfo(mountPoint='/volumes', source='DbfsReserved', encryptionType=''),\n",
       " MountInfo(mountPoint='/', source='DatabricksRoot', encryptionType=''),\n",
       " MountInfo(mountPoint='/volume', source='DbfsReserved', encryptionType='')]"
      ]
     },
     "execution_count": 44,
     "metadata": {},
     "output_type": "execute_result"
    }
   ],
   "source": [
    "dbutils.fs.mounts()"
   ]
  },
  {
   "cell_type": "code",
   "execution_count": 0,
   "metadata": {
    "application/vnd.databricks.v1+cell": {
     "cellMetadata": {
      "byteLimit": 2048000,
      "rowLimit": 10000
     },
     "inputWidgets": {},
     "nuid": "d4a33e10-f10e-40e2-9ec5-66a32d4c1c94",
     "showTitle": false,
     "tableResultSettingsMap": {},
     "title": ""
    }
   },
   "outputs": [
    {
     "data": {
      "text/plain": [
       "[FileInfo(path='dbfs:/FileStore/tables/promising_silo_374208_76133b3d97e6-1.json', name='promising_silo_374208_76133b3d97e6-1.json', size=2395, modificationTime=1733089073002),\n",
       " FileInfo(path='dbfs:/FileStore/tables/promising_silo_374208_76133b3d97e6-2.json', name='promising_silo_374208_76133b3d97e6-2.json', size=2395, modificationTime=1733089356299),\n",
       " FileInfo(path='dbfs:/FileStore/tables/promising_silo_374208_76133b3d97e6-3.json', name='promising_silo_374208_76133b3d97e6-3.json', size=2395, modificationTime=1733091005297),\n",
       " FileInfo(path='dbfs:/FileStore/tables/promising_silo_374208_76133b3d97e6.json', name='promising_silo_374208_76133b3d97e6.json', size=2395, modificationTime=1733089048426),\n",
       " FileInfo(path='dbfs:/FileStore/tables/promising_silo_374208_7f801d04cf6f.json', name='promising_silo_374208_7f801d04cf6f.json', size=2395, modificationTime=1733096982546),\n",
       " FileInfo(path='dbfs:/FileStore/tables/promising_silo_374208_8b3d9c4e46c7.json', name='promising_silo_374208_8b3d9c4e46c7.json', size=2381, modificationTime=1733098459248)]"
      ]
     },
     "execution_count": 45,
     "metadata": {},
     "output_type": "execute_result"
    }
   ],
   "source": [
    "dbutils.fs.ls(\"/FileStore/tables/\")"
   ]
  },
  {
   "cell_type": "code",
   "execution_count": 0,
   "metadata": {
    "application/vnd.databricks.v1+cell": {
     "cellMetadata": {
      "byteLimit": 2048000,
      "rowLimit": 10000
     },
     "inputWidgets": {},
     "nuid": "d9bc6c3c-dfab-467e-b71c-bbb35d9059ea",
     "showTitle": false,
     "tableResultSettingsMap": {},
     "title": ""
    }
   },
   "outputs": [
    {
     "data": {
      "text/plain": [
       "True"
      ]
     },
     "execution_count": 46,
     "metadata": {},
     "output_type": "execute_result"
    }
   ],
   "source": [
    "dbutils.fs.mount(\n",
    "    source=\"gs://603-yelp-data\",  \n",
    "    mount_point=\"/mnt/gcs-data\",  \n",
    "    extra_configs={\n",
    "        \"google.cloud.auth.service.account.json.keyfile\": \"/dbfs/FileStore/tables/promising_silo_374208_8b3d9c4e46c7.json\"\n",
    "    }\n",
    ")"
   ]
  },
  {
   "cell_type": "code",
   "execution_count": 0,
   "metadata": {
    "application/vnd.databricks.v1+cell": {
     "cellMetadata": {
      "byteLimit": 2048000,
      "rowLimit": 10000
     },
     "inputWidgets": {},
     "nuid": "f4a67053-3cb6-4c3a-9f45-fdf7f5f72bca",
     "showTitle": false,
     "tableResultSettingsMap": {},
     "title": ""
    }
   },
   "outputs": [
    {
     "data": {
      "text/plain": [
       "[FileInfo(path='dbfs:/mnt/gcs-data/processed_reviews.parquet/', name='processed_reviews.parquet/', size=0, modificationTime=0),\n",
       " FileInfo(path='dbfs:/mnt/gcs-data/yelp-data/', name='yelp-data/', size=0, modificationTime=0),\n",
       " FileInfo(path='dbfs:/mnt/gcs-data/yelp_academic_dataset_review.json', name='yelp_academic_dataset_review.json', size=5341868833, modificationTime=1733094816069)]"
      ]
     },
     "execution_count": 47,
     "metadata": {},
     "output_type": "execute_result"
    }
   ],
   "source": [
    "dbutils.fs.ls(\"/mnt/gcs-data\")"
   ]
  },
  {
   "cell_type": "markdown",
   "metadata": {
    "application/vnd.databricks.v1+cell": {
     "cellMetadata": {},
     "inputWidgets": {},
     "nuid": "19cc6725-f567-4ba7-8acb-6dc9f42e3bd6",
     "showTitle": false,
     "tableResultSettingsMap": {},
     "title": ""
    }
   },
   "source": [
    "EDA analysis"
   ]
  },
  {
   "cell_type": "code",
   "execution_count": 0,
   "metadata": {
    "application/vnd.databricks.v1+cell": {
     "cellMetadata": {
      "byteLimit": 2048000,
      "rowLimit": 10000
     },
     "inputWidgets": {},
     "nuid": "951f3c43-4732-49bd-bce9-4ce0cfa9227f",
     "showTitle": false,
     "tableResultSettingsMap": {},
     "title": ""
    }
   },
   "outputs": [
    {
     "name": "stdout",
     "output_type": "stream",
     "text": [
      "+--------------------+----+-------------------+-----+--------------------+-----+--------------------+------+--------------------+\n",
      "|         business_id|cool|               date|funny|           review_id|stars|                text|useful|             user_id|\n",
      "+--------------------+----+-------------------+-----+--------------------+-----+--------------------+------+--------------------+\n",
      "|XQfwVwDr-v0ZS3_Cb...|   0|2018-07-07 22:09:11|    0|KU_O5udG6zpxOg-Vc...|  3.0|If you decide to ...|     0|mh_-eMZ6K5RLWhZyI...|\n",
      "|7ATYjTIgM3jUlt4UM...|   1|2012-01-03 15:28:18|    0|BiTunyQ73aT9WBnpR...|  5.0|I've taken a lot ...|     1|OyoGAe7OKpv6SyGZT...|\n",
      "|YjUWPpI6HXG530lwP...|   0|2014-02-05 20:30:30|    0|saUsX_uimxRlCVr67...|  3.0|Family diner. Had...|     0|8g_iMtfSiwikVnbP2...|\n",
      "|kxX2SOes4o-D3ZQBk...|   1|2015-01-04 00:01:03|    0|AqPFMleE6RsU23_au...|  5.0|Wow!  Yummy, diff...|     1|_7bHUi9Uuf5__HHc_...|\n",
      "|e4Vwtrqf-wpJfwesg...|   1|2017-01-14 20:54:15|    0|Sx8TMOWLNuJBWer-0...|  4.0|Cute interior and...|     1|bcjbaE6dDog4jkNY9...|\n",
      "|04UD14gamNjLY0IDY...|   1|2015-09-23 23:10:31|    2|JrIxlS1TzJ-iCu79u...|  1.0|I am a long term ...|     1|eUta8W_HdHMXPzLBB...|\n",
      "|gmjsEdUsKpj9Xxu6p...|   0|2015-01-03 23:21:18|    2|6AxgBCNX_PNTOxmbR...|  5.0|Loved this tour! ...|     0|r3zeYsv1XFBRA4dJp...|\n",
      "|LHSTtnW3YHCeUkRDG...|   0|2015-08-07 02:29:16|    0|_ZeMknuYdlQcUqng_...|  5.0|Amazingly amazing...|     2|yfFzsLmaWF2d4Sr0U...|\n",
      "|B5XSoSG3SfvQGtKEG...|   0|2016-03-30 22:46:33|    1|ZKvDG2sBvHVdF5oBN...|  3.0|This easter inste...|     1|wSTuiTk-sKNdcFypr...|\n",
      "|gebiRewfieSdtt17P...|   0|2016-07-25 07:31:06|    0|pUycOfUwM8vqX7KjR...|  3.0|Had a party of 6 ...|     0|59MxRhNVhU9MYndMk...|\n",
      "|uMvVYRgGNXf5boolA...|   0|2015-06-21 14:48:06|    0|rGQRf8UafX7OTlMNN...|  5.0|My experience wit...|     2|1WHRWwQmZOZDAhp2Q...|\n",
      "|EQ-TZ2eeD_E0BHuvo...|   0|2015-08-19 14:31:45|    0|l3Wk_mvAog6XANIuG...|  4.0|Locals recommende...|     0|ZbqSHbgCjzVAqaa7N...|\n",
      "|lj-E32x9_FA7GmUrB...|   0|2014-06-27 22:44:01|    0|XW_LfMv0fV21l9c6x...|  4.0|Love going here f...|     0|9OAtfnWag-ajVxRbU...|\n",
      "|RZtGWDLCAtuipwaZ-...|   0|2009-10-14 19:57:14|    0|8JFGBuHMoiNDyfcxu...|  4.0|Good food--loved ...|     0|smOvOajNG0lS4Pq7d...|\n",
      "|otQS34_MymijPTdNB...|   0|2011-10-27 17:12:05|    2|UBp0zWyH60Hmw6Fsa...|  4.0|The bun makes the...|     0|4Uh27DgGzsp6PqrH9...|\n",
      "|BVndHaLihEYbr76Z0...|   0|2014-10-11 16:22:06|    0|OAhBYw8IQ6wlfw1ow...|  5.0|Great place for b...|     0|1C2lxzUo1Hyye4RFI...|\n",
      "|YtSqYv1Q_pOltsVPS...|   0|2013-06-24 11:21:25|    0|oyaMhzBSwfGgemSGu...|  5.0|Tremendous servic...|     0|Dd1jQj7S-BFGqRbAp...|\n",
      "|rBdG_23USc7DletfZ...|   0|2014-08-10 19:41:43|    0|LnGZB0fjfgeVDVz5I...|  4.0|The hubby and I h...|     1|j2wlzrntrbKwyOcOi...|\n",
      "|CLEWowfkj-wKYJlQD...|   1|2016-03-07 00:02:18|    0|u2vzZaOqJ2feRshaa...|  5.0|I go to blow bar ...|     2|NDZvyYHTUWWu-kqgQ...|\n",
      "|eFvzHawVJofxSnD7T...|   0|2014-11-12 15:30:27|    0|Xs8Z8lmKkosqW5mw_...|  5.0|My absolute favor...|     0|IQsF3Rc6IgCzjVV9D...|\n",
      "+--------------------+----+-------------------+-----+--------------------+-----+--------------------+------+--------------------+\n",
      "only showing top 20 rows\n",
      "\n"
     ]
    }
   ],
   "source": [
    "yelp_reviews = spark.read.json(\"/mnt/gcs-data/yelp_academic_dataset_review.json\")\n",
    "yelp_reviews.show()"
   ]
  },
  {
   "cell_type": "code",
   "execution_count": 0,
   "metadata": {
    "application/vnd.databricks.v1+cell": {
     "cellMetadata": {
      "byteLimit": 2048000,
      "rowLimit": 10000
     },
     "inputWidgets": {},
     "nuid": "a6db823a-3940-4af7-afc9-6b73d3d9f6cf",
     "showTitle": false,
     "tableResultSettingsMap": {},
     "title": ""
    }
   },
   "outputs": [
    {
     "name": "stdout",
     "output_type": "stream",
     "text": [
      "+----------------------+----+-------------------+-----+----------------------+-----+-----------------------------------------------------------------------------------------------------------------------------------------------------------------------------------------------------------------------------------------------------------------------------------------------------------------------------------------------------------------------------------------------------------------------------------------------------------------------------------------------------------------------------------------------------------------------------------------------------------------------------------------------------------------------------------------------------------------------------------------------------------------------------------------------------------------------------------------------------------------+------+----------------------+\n",
      "|business_id           |cool|date               |funny|review_id             |stars|text                                                                                                                                                                                                                                                                                                                                                                                                                                                                                                                                                                                                                                                                                                                                                                                                                                                             |useful|user_id               |\n",
      "+----------------------+----+-------------------+-----+----------------------+-----+-----------------------------------------------------------------------------------------------------------------------------------------------------------------------------------------------------------------------------------------------------------------------------------------------------------------------------------------------------------------------------------------------------------------------------------------------------------------------------------------------------------------------------------------------------------------------------------------------------------------------------------------------------------------------------------------------------------------------------------------------------------------------------------------------------------------------------------------------------------------+------+----------------------+\n",
      "|XQfwVwDr-v0ZS3_CbbE5Xw|0   |2018-07-07 22:09:11|0    |KU_O5udG6zpxOg-VcAEodg|3.0  |If you decide to eat here, just be aware it is going to take about 2 hours from beginning to end. We have tried it multiple times, because I want to like it! I have been to it's other locations in NJ and never had a bad experience. \\n\\nThe food is good, but it takes a very long time to come out. The waitstaff is very young, but usually pleasant. We have just had too many experiences where we spent way too long waiting. We usually opt for another diner or restaurant on the weekends, in order to be done quicker.                                                                                                                                                                                                                                                                                                                              |0     |mh_-eMZ6K5RLWhZyISBhwA|\n",
      "|7ATYjTIgM3jUlt4UM3IypQ|1   |2012-01-03 15:28:18|0    |BiTunyQ73aT9WBnpR9DZGw|5.0  |I've taken a lot of spin classes over the years, and nothing compares to the classes at Body Cycle. From the nice, clean space and amazing bikes, to the welcoming and motivating instructors, every class is a top notch work out.\\n\\nFor anyone who struggles to fit workouts in, the online scheduling system makes it easy to plan ahead (and there's no need to line up way in advanced like many gyms make you do).\\n\\nThere is no way I can write this review without giving Russell, the owner of Body Cycle, a shout out. Russell's passion for fitness and cycling is so evident, as is his desire for all of his clients to succeed. He is always dropping in to classes to check in/provide encouragement, and is open to ideas and recommendations from anyone. Russell always wears a smile on his face, even when he's kicking your butt in class!|1     |OyoGAe7OKpv6SyGZT5g77Q|\n",
      "|YjUWPpI6HXG530lwP-fb2A|0   |2014-02-05 20:30:30|0    |saUsX_uimxRlCVr67Z4Jig|3.0  |Family diner. Had the buffet. Eclectic assortment: a large chicken leg, fried jalapeño, tamale, two rolled grape leaves, fresh melon. All good. Lots of Mexican choices there. Also has a menu with breakfast served all day long. Friendly, attentive staff. Good place for a casual relaxed meal with no expectations. Next to the Clarion Hotel.                                                                                                                                                                                                                                                                                                                                                                                                                                                                                                              |0     |8g_iMtfSiwikVnbP2etR0A|\n",
      "|kxX2SOes4o-D3ZQBkiMRfA|1   |2015-01-04 00:01:03|0    |AqPFMleE6RsU23_auESxiA|5.0  |Wow!  Yummy, different,  delicious.   Our favorite is the lamb curry and korma.  With 10 different kinds of naan!!!  Don't let the outside deter you (because we almost changed our minds)...go in and try something new!   You'll be glad you did!                                                                                                                                                                                                                                                                                                                                                                                                                                                                                                                                                                                                              |1     |_7bHUi9Uuf5__HHc_Q8guQ|\n",
      "|e4Vwtrqf-wpJfwesgvdgxQ|1   |2017-01-14 20:54:15|0    |Sx8TMOWLNuJBWer-0pcmoA|4.0  |Cute interior and owner (?) gave us tour of upcoming patio/rooftop area which will be great on beautiful days like today. Cheese curds were very good and very filling. Really like that sandwiches come w salad, esp after eating too many curds! Had the onion, gruyere, tomato sandwich. Wasn't too much cheese which I liked. Needed something else...pepper jelly maybe. Would like to see more menu options added such as salads w fun cheeses. Lots of beer and wine as well as limited cocktails. Next time I will try one of the draft wines.                                                                                                                                                                                                                                                                                                           |1     |bcjbaE6dDog4jkNY91ncLQ|\n",
      "+----------------------+----+-------------------+-----+----------------------+-----+-----------------------------------------------------------------------------------------------------------------------------------------------------------------------------------------------------------------------------------------------------------------------------------------------------------------------------------------------------------------------------------------------------------------------------------------------------------------------------------------------------------------------------------------------------------------------------------------------------------------------------------------------------------------------------------------------------------------------------------------------------------------------------------------------------------------------------------------------------------------+------+----------------------+\n",
      "only showing top 5 rows\n",
      "\n"
     ]
    }
   ],
   "source": [
    "yelp_reviews.show(5, truncate=False) "
   ]
  },
  {
   "cell_type": "code",
   "execution_count": 0,
   "metadata": {
    "application/vnd.databricks.v1+cell": {
     "cellMetadata": {
      "byteLimit": 2048000,
      "rowLimit": 10000
     },
     "inputWidgets": {},
     "nuid": "199c6c1d-c3f7-4291-9b41-5d0179d96111",
     "showTitle": false,
     "tableResultSettingsMap": {},
     "title": ""
    }
   },
   "outputs": [
    {
     "name": "stdout",
     "output_type": "stream",
     "text": [
      "root\n",
      " |-- business_id: string (nullable = true)\n",
      " |-- cool: long (nullable = true)\n",
      " |-- date: string (nullable = true)\n",
      " |-- funny: long (nullable = true)\n",
      " |-- review_id: string (nullable = true)\n",
      " |-- stars: double (nullable = true)\n",
      " |-- text: string (nullable = true)\n",
      " |-- useful: long (nullable = true)\n",
      " |-- user_id: string (nullable = true)\n",
      "\n",
      "Total number of rows: 6990280\n"
     ]
    }
   ],
   "source": [
    "# Print schema of the dataset\n",
    "yelp_reviews.printSchema()\n",
    "\n",
    "# Get the total number of rows\n",
    "row_count = yelp_reviews.count()\n",
    "print(f\"Total number of rows: {row_count}\")"
   ]
  },
  {
   "cell_type": "code",
   "execution_count": 0,
   "metadata": {
    "application/vnd.databricks.v1+cell": {
     "cellMetadata": {
      "byteLimit": 2048000,
      "rowLimit": 10000
     },
     "inputWidgets": {},
     "nuid": "e11dbc65-7cba-47f0-a881-7b8770aaed15",
     "showTitle": false,
     "tableResultSettingsMap": {},
     "title": ""
    }
   },
   "outputs": [
    {
     "name": "stdout",
     "output_type": "stream",
     "text": [
      "+-------+------------------+------------------+-------------------+------------------+\n",
      "|summary|             stars|            useful|              funny|              cool|\n",
      "+-------+------------------+------------------+-------------------+------------------+\n",
      "|  count|           6990280|           6990280|            6990280|           6990280|\n",
      "|   mean|  3.74858374771826|1.1846089140921394|0.32655959417934616|0.4986175088837643|\n",
      "| stddev|1.4787045052556806| 3.253766966933353|  1.688729098554047| 2.172459820211185|\n",
      "|    min|               1.0|                -1|                 -1|                -1|\n",
      "|    max|               5.0|              1182|                792|               404|\n",
      "+-------+------------------+------------------+-------------------+------------------+\n",
      "\n"
     ]
    }
   ],
   "source": [
    "# Drop duplicate reviews and remove entries with blank or irrelevant text\n",
    "cleaned_reviews = yelp_reviews.dropDuplicates([\"review_id\"]).filter(\"text IS NOT NULL AND text != ''\")\n",
    "\n",
    "# Display summary of the cleaned dataset\n",
    "cleaned_reviews.describe([\"stars\", \"useful\", \"funny\", \"cool\"]).show()"
   ]
  },
  {
   "cell_type": "code",
   "execution_count": 0,
   "metadata": {
    "application/vnd.databricks.v1+cell": {
     "cellMetadata": {
      "byteLimit": 2048000,
      "rowLimit": 10000
     },
     "inputWidgets": {},
     "nuid": "cbc98afd-2d43-47ca-9ab3-f2699bfe751e",
     "showTitle": false,
     "tableResultSettingsMap": {},
     "title": ""
    }
   },
   "outputs": [
    {
     "name": "stdout",
     "output_type": "stream",
     "text": [
      "+-----------+----+----+-----+---------+-----+----+------+-------+\n",
      "|business_id|cool|date|funny|review_id|stars|text|useful|user_id|\n",
      "+-----------+----+----+-----+---------+-----+----+------+-------+\n",
      "|          0|   0|   0|    0|        0|    0|   0|     0|      0|\n",
      "+-----------+----+----+-----+---------+-----+----+------+-------+\n",
      "\n"
     ]
    }
   ],
   "source": [
    "from pyspark.sql.functions import col, isnan, when, count\n",
    "\n",
    "# Count null or NaN values for each column\n",
    "cleaned_reviews.select([count(when(col(c).isNull() | isnan(c), c)).alias(c) for c in cleaned_reviews.columns]).show()"
   ]
  },
  {
   "cell_type": "markdown",
   "metadata": {
    "application/vnd.databricks.v1+cell": {
     "cellMetadata": {},
     "inputWidgets": {},
     "nuid": "60a8c82c-6063-4090-bb85-f182d4561251",
     "showTitle": false,
     "tableResultSettingsMap": {},
     "title": ""
    }
   },
   "source": [
    "There are zero null values in the dataset\n"
   ]
  },
  {
   "cell_type": "code",
   "execution_count": 0,
   "metadata": {
    "application/vnd.databricks.v1+cell": {
     "cellMetadata": {
      "byteLimit": 2048000,
      "rowLimit": 10000
     },
     "inputWidgets": {},
     "nuid": "97e39185-e0f2-43bb-93c4-c3b71dc670f5",
     "showTitle": false,
     "tableResultSettingsMap": {},
     "title": ""
    }
   },
   "outputs": [],
   "source": [
    "from pyspark.sql.functions import length\n",
    "\n",
    "cleaned_reviews = cleaned_reviews.withColumn(\"review_length\", length(col(\"text\")))"
   ]
  },
  {
   "cell_type": "code",
   "execution_count": 0,
   "metadata": {
    "application/vnd.databricks.v1+cell": {
     "cellMetadata": {
      "byteLimit": 2048000,
      "rowLimit": 10000
     },
     "inputWidgets": {},
     "nuid": "a0bbd25b-0b20-4e00-b0bd-4ea55bb3326a",
     "showTitle": false,
     "tableResultSettingsMap": {},
     "title": ""
    }
   },
   "outputs": [],
   "source": [
    "from pyspark.sql.functions import year, month\n",
    "\n",
    "cleaned_reviews = cleaned_reviews.withColumn(\"review_year\", year(col(\"date\"))) \\\n",
    "                       .withColumn(\"review_month\", month(col(\"date\")))"
   ]
  },
  {
   "cell_type": "code",
   "execution_count": 0,
   "metadata": {
    "application/vnd.databricks.v1+cell": {
     "cellMetadata": {
      "byteLimit": 2048000,
      "rowLimit": 10000
     },
     "inputWidgets": {},
     "nuid": "0cc45e7f-c73b-40ac-a760-f9ddc3f437db",
     "showTitle": false,
     "tableResultSettingsMap": {},
     "title": ""
    }
   },
   "outputs": [
    {
     "name": "stdout",
     "output_type": "stream",
     "text": [
      "root\n",
      " |-- business_id: string (nullable = true)\n",
      " |-- cool: long (nullable = true)\n",
      " |-- date: string (nullable = true)\n",
      " |-- funny: long (nullable = true)\n",
      " |-- review_id: string (nullable = true)\n",
      " |-- stars: double (nullable = true)\n",
      " |-- text: string (nullable = true)\n",
      " |-- useful: long (nullable = true)\n",
      " |-- user_id: string (nullable = true)\n",
      " |-- review_length: integer (nullable = true)\n",
      " |-- review_year: integer (nullable = true)\n",
      " |-- review_month: integer (nullable = true)\n",
      "\n"
     ]
    }
   ],
   "source": [
    "cleaned_reviews.printSchema()"
   ]
  },
  {
   "cell_type": "code",
   "execution_count": 0,
   "metadata": {
    "application/vnd.databricks.v1+cell": {
     "cellMetadata": {
      "byteLimit": 2048000,
      "rowLimit": 10000
     },
     "inputWidgets": {},
     "nuid": "804a8127-d3db-4b92-ba81-c1f6059e2098",
     "showTitle": false,
     "tableResultSettingsMap": {},
     "title": ""
    }
   },
   "outputs": [],
   "source": [
    "cleaned_reviews = cleaned_reviews.withColumn(\n",
    "    \"rating_category\",\n",
    "    when(col(\"stars\") >= 4, \"high\").when(col(\"stars\") == 3, \"medium\").otherwise(\"low\")\n",
    ")"
   ]
  },
  {
   "cell_type": "code",
   "execution_count": 0,
   "metadata": {
    "application/vnd.databricks.v1+cell": {
     "cellMetadata": {
      "byteLimit": 2048000,
      "rowLimit": 10000
     },
     "inputWidgets": {},
     "nuid": "4e98e04c-99b2-44ca-b55a-47777d44f7b2",
     "showTitle": false,
     "tableResultSettingsMap": {},
     "title": ""
    }
   },
   "outputs": [
    {
     "name": "stdout",
     "output_type": "stream",
     "text": [
      "+-----+-------+\n",
      "|stars|  count|\n",
      "+-----+-------+\n",
      "|  1.0|1069561|\n",
      "|  2.0| 544240|\n",
      "|  3.0| 691934|\n",
      "|  4.0|1452918|\n",
      "|  5.0|3231627|\n",
      "+-----+-------+\n",
      "\n"
     ]
    }
   ],
   "source": [
    "cleaned_reviews.groupBy(\"stars\").count().orderBy(\"stars\").show()"
   ]
  },
  {
   "cell_type": "code",
   "execution_count": 0,
   "metadata": {
    "application/vnd.databricks.v1+cell": {
     "cellMetadata": {
      "byteLimit": 2048000,
      "rowLimit": 10000
     },
     "inputWidgets": {},
     "nuid": "4402d5dc-8b6d-46ef-8dc8-eae460250a5e",
     "showTitle": false,
     "tableResultSettingsMap": {},
     "title": ""
    }
   },
   "outputs": [
    {
     "name": "stdout",
     "output_type": "stream",
     "text": [
      "+-------+-----------------+\n",
      "|summary|    review_length|\n",
      "+-------+-----------------+\n",
      "|  count|          6990280|\n",
      "|   mean|567.7644364746477|\n",
      "| stddev|527.2578085249031|\n",
      "|    min|                1|\n",
      "|    max|             5000|\n",
      "+-------+-----------------+\n",
      "\n"
     ]
    }
   ],
   "source": [
    "cleaned_reviews.select(\"review_length\").describe().show()"
   ]
  },
  {
   "cell_type": "code",
   "execution_count": 0,
   "metadata": {
    "application/vnd.databricks.v1+cell": {
     "cellMetadata": {
      "byteLimit": 2048000,
      "rowLimit": 10000
     },
     "inputWidgets": {},
     "nuid": "0ca08d5f-0271-41ce-a53f-2d9f02a16d56",
     "showTitle": false,
     "tableResultSettingsMap": {},
     "title": ""
    }
   },
   "outputs": [
    {
     "name": "stdout",
     "output_type": "stream",
     "text": [
      "+-----------+------+\n",
      "|review_year| count|\n",
      "+-----------+------+\n",
      "|       2005|   854|\n",
      "|       2006|  3853|\n",
      "|       2007| 15363|\n",
      "|       2008| 48226|\n",
      "|       2009| 74387|\n",
      "|       2010|138587|\n",
      "|       2011|230813|\n",
      "|       2012|286570|\n",
      "|       2013|383950|\n",
      "|       2014|522275|\n",
      "|       2015|688415|\n",
      "|       2016|758882|\n",
      "|       2017|820048|\n",
      "|       2018|906362|\n",
      "|       2019|907284|\n",
      "|       2020|554557|\n",
      "|       2021|618189|\n",
      "|       2022| 31665|\n",
      "+-----------+------+\n",
      "\n"
     ]
    }
   ],
   "source": [
    "cleaned_reviews.groupBy(\"review_year\").count().orderBy(\"review_year\").show()"
   ]
  },
  {
   "cell_type": "code",
   "execution_count": 0,
   "metadata": {
    "application/vnd.databricks.v1+cell": {
     "cellMetadata": {
      "byteLimit": 2048000,
      "rowLimit": 10000
     },
     "inputWidgets": {},
     "nuid": "51e01e08-0053-4c89-943e-b109f24f21b2",
     "showTitle": false,
     "tableResultSettingsMap": {},
     "title": ""
    }
   },
   "outputs": [
    {
     "name": "stdout",
     "output_type": "stream",
     "text": [
      "root\n",
      " |-- business_id: string (nullable = true)\n",
      " |-- cool: long (nullable = true)\n",
      " |-- date: string (nullable = true)\n",
      " |-- funny: long (nullable = true)\n",
      " |-- review_id: string (nullable = true)\n",
      " |-- stars: double (nullable = true)\n",
      " |-- text: string (nullable = true)\n",
      " |-- useful: long (nullable = true)\n",
      " |-- user_id: string (nullable = true)\n",
      " |-- review_length: integer (nullable = true)\n",
      " |-- review_year: integer (nullable = true)\n",
      " |-- review_month: integer (nullable = true)\n",
      " |-- rating_category: string (nullable = false)\n",
      "\n"
     ]
    }
   ],
   "source": [
    "cleaned_reviews.printSchema()"
   ]
  },
  {
   "cell_type": "markdown",
   "metadata": {
    "application/vnd.databricks.v1+cell": {
     "cellMetadata": {},
     "inputWidgets": {},
     "nuid": "3adc7134-9c89-4bab-b358-a70a70398cc1",
     "showTitle": false,
     "tableResultSettingsMap": {},
     "title": ""
    }
   },
   "source": [
    "After completion of processing storing the processed file in cloud storage"
   ]
  },
  {
   "cell_type": "code",
   "execution_count": 0,
   "metadata": {
    "application/vnd.databricks.v1+cell": {
     "cellMetadata": {
      "byteLimit": 2048000,
      "rowLimit": 10000
     },
     "inputWidgets": {},
     "nuid": "d44d7de2-0822-43ad-8148-87e781ceb948",
     "showTitle": false,
     "tableResultSettingsMap": {},
     "title": ""
    }
   },
   "outputs": [],
   "source": [
    "# Write the DataFrame to Parquet format and overwrite the existing file\n",
    "cleaned_reviews.write.mode(\"overwrite\").parquet(\"dbfs:/mnt/gcs-data/processed_reviews.parquet\")\n"
   ]
  },
  {
   "cell_type": "code",
   "execution_count": 0,
   "metadata": {
    "application/vnd.databricks.v1+cell": {
     "cellMetadata": {
      "byteLimit": 2048000,
      "rowLimit": 10000
     },
     "inputWidgets": {},
     "nuid": "fcce870a-c73b-437f-a85b-bb8d66bf00ac",
     "showTitle": false,
     "tableResultSettingsMap": {},
     "title": ""
    }
   },
   "outputs": [
    {
     "data": {
      "text/plain": [
       "[FileInfo(path='dbfs:/mnt/gcs-data/processed_reviews.parquet/_SUCCESS', name='_SUCCESS', size=0, modificationTime=1733179129393),\n",
       " FileInfo(path='dbfs:/mnt/gcs-data/processed_reviews.parquet/_committed_7367402482515525943', name='_committed_7367402482515525943', size=6791, modificationTime=1733178380649),\n",
       " FileInfo(path='dbfs:/mnt/gcs-data/processed_reviews.parquet/_committed_8403372472510479157', name='_committed_8403372472510479157', size=13568, modificationTime=1733179127633),\n",
       " FileInfo(path='dbfs:/mnt/gcs-data/processed_reviews.parquet/_started_7367402482515525943', name='_started_7367402482515525943', size=0, modificationTime=1733178362726),\n",
       " FileInfo(path='dbfs:/mnt/gcs-data/processed_reviews.parquet/_started_8403372472510479157', name='_started_8403372472510479157', size=0, modificationTime=1733179113982),\n",
       " FileInfo(path='dbfs:/mnt/gcs-data/processed_reviews.parquet/part-00000-tid-8403372472510479157-33e61a39-de86-47d9-866a-189c00403714-1759-1-c000.snappy.parquet', name='part-00000-tid-8403372472510479157-33e61a39-de86-47d9-866a-189c00403714-1759-1-c000.snappy.parquet', size=46277838, modificationTime=1733179125655),\n",
       " FileInfo(path='dbfs:/mnt/gcs-data/processed_reviews.parquet/part-00001-tid-8403372472510479157-33e61a39-de86-47d9-866a-189c00403714-1747-1-c000.snappy.parquet', name='part-00001-tid-8403372472510479157-33e61a39-de86-47d9-866a-189c00403714-1747-1-c000.snappy.parquet', size=46437417, modificationTime=1733179123570),\n",
       " FileInfo(path='dbfs:/mnt/gcs-data/processed_reviews.parquet/part-00002-tid-8403372472510479157-33e61a39-de86-47d9-866a-189c00403714-1732-1-c000.snappy.parquet', name='part-00002-tid-8403372472510479157-33e61a39-de86-47d9-866a-189c00403714-1732-1-c000.snappy.parquet', size=46421732, modificationTime=1733179122189),\n",
       " FileInfo(path='dbfs:/mnt/gcs-data/processed_reviews.parquet/part-00003-tid-8403372472510479157-33e61a39-de86-47d9-866a-189c00403714-1708-1-c000.snappy.parquet', name='part-00003-tid-8403372472510479157-33e61a39-de86-47d9-866a-189c00403714-1708-1-c000.snappy.parquet', size=46604999, modificationTime=1733179117443),\n",
       " FileInfo(path='dbfs:/mnt/gcs-data/processed_reviews.parquet/part-00004-tid-8403372472510479157-33e61a39-de86-47d9-866a-189c00403714-1701-1-c000.snappy.parquet', name='part-00004-tid-8403372472510479157-33e61a39-de86-47d9-866a-189c00403714-1701-1-c000.snappy.parquet', size=46826574, modificationTime=1733179117310),\n",
       " FileInfo(path='dbfs:/mnt/gcs-data/processed_reviews.parquet/part-00005-tid-8403372472510479157-33e61a39-de86-47d9-866a-189c00403714-1764-1-c000.snappy.parquet', name='part-00005-tid-8403372472510479157-33e61a39-de86-47d9-866a-189c00403714-1764-1-c000.snappy.parquet', size=46266127, modificationTime=1733179127021),\n",
       " FileInfo(path='dbfs:/mnt/gcs-data/processed_reviews.parquet/part-00006-tid-8403372472510479157-33e61a39-de86-47d9-866a-189c00403714-1755-1-c000.snappy.parquet', name='part-00006-tid-8403372472510479157-33e61a39-de86-47d9-866a-189c00403714-1755-1-c000.snappy.parquet', size=46285009, modificationTime=1733179125633),\n",
       " FileInfo(path='dbfs:/mnt/gcs-data/processed_reviews.parquet/part-00007-tid-8403372472510479157-33e61a39-de86-47d9-866a-189c00403714-1756-1-c000.snappy.parquet', name='part-00007-tid-8403372472510479157-33e61a39-de86-47d9-866a-189c00403714-1756-1-c000.snappy.parquet', size=46467944, modificationTime=1733179125359),\n",
       " FileInfo(path='dbfs:/mnt/gcs-data/processed_reviews.parquet/part-00008-tid-8403372472510479157-33e61a39-de86-47d9-866a-189c00403714-1746-1-c000.snappy.parquet', name='part-00008-tid-8403372472510479157-33e61a39-de86-47d9-866a-189c00403714-1746-1-c000.snappy.parquet', size=46466850, modificationTime=1733179123286),\n",
       " FileInfo(path='dbfs:/mnt/gcs-data/processed_reviews.parquet/part-00009-tid-8403372472510479157-33e61a39-de86-47d9-866a-189c00403714-1703-1-c000.snappy.parquet', name='part-00009-tid-8403372472510479157-33e61a39-de86-47d9-866a-189c00403714-1703-1-c000.snappy.parquet', size=46753629, modificationTime=1733179116629),\n",
       " FileInfo(path='dbfs:/mnt/gcs-data/processed_reviews.parquet/part-00010-tid-8403372472510479157-33e61a39-de86-47d9-866a-189c00403714-1760-1-c000.snappy.parquet', name='part-00010-tid-8403372472510479157-33e61a39-de86-47d9-866a-189c00403714-1760-1-c000.snappy.parquet', size=46521248, modificationTime=1733179125768),\n",
       " FileInfo(path='dbfs:/mnt/gcs-data/processed_reviews.parquet/part-00011-tid-8403372472510479157-33e61a39-de86-47d9-866a-189c00403714-1717-1-c000.snappy.parquet', name='part-00011-tid-8403372472510479157-33e61a39-de86-47d9-866a-189c00403714-1717-1-c000.snappy.parquet', size=46819469, modificationTime=1733179119872),\n",
       " FileInfo(path='dbfs:/mnt/gcs-data/processed_reviews.parquet/part-00012-tid-8403372472510479157-33e61a39-de86-47d9-866a-189c00403714-1762-1-c000.snappy.parquet', name='part-00012-tid-8403372472510479157-33e61a39-de86-47d9-866a-189c00403714-1762-1-c000.snappy.parquet', size=46080691, modificationTime=1733179126226),\n",
       " FileInfo(path='dbfs:/mnt/gcs-data/processed_reviews.parquet/part-00013-tid-8403372472510479157-33e61a39-de86-47d9-866a-189c00403714-1735-1-c000.snappy.parquet', name='part-00013-tid-8403372472510479157-33e61a39-de86-47d9-866a-189c00403714-1735-1-c000.snappy.parquet', size=46779671, modificationTime=1733179122487),\n",
       " FileInfo(path='dbfs:/mnt/gcs-data/processed_reviews.parquet/part-00014-tid-8403372472510479157-33e61a39-de86-47d9-866a-189c00403714-1724-1-c000.snappy.parquet', name='part-00014-tid-8403372472510479157-33e61a39-de86-47d9-866a-189c00403714-1724-1-c000.snappy.parquet', size=46854669, modificationTime=1733179119861),\n",
       " FileInfo(path='dbfs:/mnt/gcs-data/processed_reviews.parquet/part-00015-tid-8403372472510479157-33e61a39-de86-47d9-866a-189c00403714-1722-1-c000.snappy.parquet', name='part-00015-tid-8403372472510479157-33e61a39-de86-47d9-866a-189c00403714-1722-1-c000.snappy.parquet', size=46562908, modificationTime=1733179120270),\n",
       " FileInfo(path='dbfs:/mnt/gcs-data/processed_reviews.parquet/part-00016-tid-8403372472510479157-33e61a39-de86-47d9-866a-189c00403714-1725-1-c000.snappy.parquet', name='part-00016-tid-8403372472510479157-33e61a39-de86-47d9-866a-189c00403714-1725-1-c000.snappy.parquet', size=46655319, modificationTime=1733179120154),\n",
       " FileInfo(path='dbfs:/mnt/gcs-data/processed_reviews.parquet/part-00017-tid-8403372472510479157-33e61a39-de86-47d9-866a-189c00403714-1757-1-c000.snappy.parquet', name='part-00017-tid-8403372472510479157-33e61a39-de86-47d9-866a-189c00403714-1757-1-c000.snappy.parquet', size=46383037, modificationTime=1733179125499),\n",
       " FileInfo(path='dbfs:/mnt/gcs-data/processed_reviews.parquet/part-00018-tid-8403372472510479157-33e61a39-de86-47d9-866a-189c00403714-1721-1-c000.snappy.parquet', name='part-00018-tid-8403372472510479157-33e61a39-de86-47d9-866a-189c00403714-1721-1-c000.snappy.parquet', size=46512230, modificationTime=1733179120215),\n",
       " FileInfo(path='dbfs:/mnt/gcs-data/processed_reviews.parquet/part-00019-tid-8403372472510479157-33e61a39-de86-47d9-866a-189c00403714-1709-1-c000.snappy.parquet', name='part-00019-tid-8403372472510479157-33e61a39-de86-47d9-866a-189c00403714-1709-1-c000.snappy.parquet', size=46779692, modificationTime=1733179116789),\n",
       " FileInfo(path='dbfs:/mnt/gcs-data/processed_reviews.parquet/part-00020-tid-8403372472510479157-33e61a39-de86-47d9-866a-189c00403714-1763-1-c000.snappy.parquet', name='part-00020-tid-8403372472510479157-33e61a39-de86-47d9-866a-189c00403714-1763-1-c000.snappy.parquet', size=46209628, modificationTime=1733179126389),\n",
       " FileInfo(path='dbfs:/mnt/gcs-data/processed_reviews.parquet/part-00021-tid-8403372472510479157-33e61a39-de86-47d9-866a-189c00403714-1753-1-c000.snappy.parquet', name='part-00021-tid-8403372472510479157-33e61a39-de86-47d9-866a-189c00403714-1753-1-c000.snappy.parquet', size=46421265, modificationTime=1733179125323),\n",
       " FileInfo(path='dbfs:/mnt/gcs-data/processed_reviews.parquet/part-00022-tid-8403372472510479157-33e61a39-de86-47d9-866a-189c00403714-1738-1-c000.snappy.parquet', name='part-00022-tid-8403372472510479157-33e61a39-de86-47d9-866a-189c00403714-1738-1-c000.snappy.parquet', size=46516381, modificationTime=1733179122741),\n",
       " FileInfo(path='dbfs:/mnt/gcs-data/processed_reviews.parquet/part-00023-tid-8403372472510479157-33e61a39-de86-47d9-866a-189c00403714-1742-1-c000.snappy.parquet', name='part-00023-tid-8403372472510479157-33e61a39-de86-47d9-866a-189c00403714-1742-1-c000.snappy.parquet', size=46583395, modificationTime=1733179122749),\n",
       " FileInfo(path='dbfs:/mnt/gcs-data/processed_reviews.parquet/part-00024-tid-8403372472510479157-33e61a39-de86-47d9-866a-189c00403714-1704-1-c000.snappy.parquet', name='part-00024-tid-8403372472510479157-33e61a39-de86-47d9-866a-189c00403714-1704-1-c000.snappy.parquet', size=46616228, modificationTime=1733179116602),\n",
       " FileInfo(path='dbfs:/mnt/gcs-data/processed_reviews.parquet/part-00025-tid-8403372472510479157-33e61a39-de86-47d9-866a-189c00403714-1758-1-c000.snappy.parquet', name='part-00025-tid-8403372472510479157-33e61a39-de86-47d9-866a-189c00403714-1758-1-c000.snappy.parquet', size=46454837, modificationTime=1733179125714),\n",
       " FileInfo(path='dbfs:/mnt/gcs-data/processed_reviews.parquet/part-00026-tid-8403372472510479157-33e61a39-de86-47d9-866a-189c00403714-1748-1-c000.snappy.parquet', name='part-00026-tid-8403372472510479157-33e61a39-de86-47d9-866a-189c00403714-1748-1-c000.snappy.parquet', size=46349598, modificationTime=1733179124767),\n",
       " FileInfo(path='dbfs:/mnt/gcs-data/processed_reviews.parquet/part-00027-tid-8403372472510479157-33e61a39-de86-47d9-866a-189c00403714-1712-1-c000.snappy.parquet', name='part-00027-tid-8403372472510479157-33e61a39-de86-47d9-866a-189c00403714-1712-1-c000.snappy.parquet', size=46713460, modificationTime=1733179117147),\n",
       " FileInfo(path='dbfs:/mnt/gcs-data/processed_reviews.parquet/part-00028-tid-8403372472510479157-33e61a39-de86-47d9-866a-189c00403714-1713-1-c000.snappy.parquet', name='part-00028-tid-8403372472510479157-33e61a39-de86-47d9-866a-189c00403714-1713-1-c000.snappy.parquet', size=46588992, modificationTime=1733179116734),\n",
       " FileInfo(path='dbfs:/mnt/gcs-data/processed_reviews.parquet/part-00029-tid-8403372472510479157-33e61a39-de86-47d9-866a-189c00403714-1728-1-c000.snappy.parquet', name='part-00029-tid-8403372472510479157-33e61a39-de86-47d9-866a-189c00403714-1728-1-c000.snappy.parquet', size=46432907, modificationTime=1733179120812),\n",
       " FileInfo(path='dbfs:/mnt/gcs-data/processed_reviews.parquet/part-00030-tid-8403372472510479157-33e61a39-de86-47d9-866a-189c00403714-1719-1-c000.snappy.parquet', name='part-00030-tid-8403372472510479157-33e61a39-de86-47d9-866a-189c00403714-1719-1-c000.snappy.parquet', size=46356368, modificationTime=1733179120196),\n",
       " FileInfo(path='dbfs:/mnt/gcs-data/processed_reviews.parquet/part-00031-tid-8403372472510479157-33e61a39-de86-47d9-866a-189c00403714-1749-1-c000.snappy.parquet', name='part-00031-tid-8403372472510479157-33e61a39-de86-47d9-866a-189c00403714-1749-1-c000.snappy.parquet', size=46553673, modificationTime=1733179125133),\n",
       " FileInfo(path='dbfs:/mnt/gcs-data/processed_reviews.parquet/part-00032-tid-8403372472510479157-33e61a39-de86-47d9-866a-189c00403714-1723-1-c000.snappy.parquet', name='part-00032-tid-8403372472510479157-33e61a39-de86-47d9-866a-189c00403714-1723-1-c000.snappy.parquet', size=46782142, modificationTime=1733179119745),\n",
       " FileInfo(path='dbfs:/mnt/gcs-data/processed_reviews.parquet/part-00033-tid-8403372472510479157-33e61a39-de86-47d9-866a-189c00403714-1740-1-c000.snappy.parquet', name='part-00033-tid-8403372472510479157-33e61a39-de86-47d9-866a-189c00403714-1740-1-c000.snappy.parquet', size=46579418, modificationTime=1733179122856),\n",
       " FileInfo(path='dbfs:/mnt/gcs-data/processed_reviews.parquet/part-00034-tid-8403372472510479157-33e61a39-de86-47d9-866a-189c00403714-1706-1-c000.snappy.parquet', name='part-00034-tid-8403372472510479157-33e61a39-de86-47d9-866a-189c00403714-1706-1-c000.snappy.parquet', size=46810818, modificationTime=1733179116818),\n",
       " FileInfo(path='dbfs:/mnt/gcs-data/processed_reviews.parquet/part-00035-tid-8403372472510479157-33e61a39-de86-47d9-866a-189c00403714-1729-1-c000.snappy.parquet', name='part-00035-tid-8403372472510479157-33e61a39-de86-47d9-866a-189c00403714-1729-1-c000.snappy.parquet', size=46553812, modificationTime=1733179120046),\n",
       " FileInfo(path='dbfs:/mnt/gcs-data/processed_reviews.parquet/part-00036-tid-8403372472510479157-33e61a39-de86-47d9-866a-189c00403714-1743-1-c000.snappy.parquet', name='part-00036-tid-8403372472510479157-33e61a39-de86-47d9-866a-189c00403714-1743-1-c000.snappy.parquet', size=46683494, modificationTime=1733179122910),\n",
       " FileInfo(path='dbfs:/mnt/gcs-data/processed_reviews.parquet/part-00037-tid-8403372472510479157-33e61a39-de86-47d9-866a-189c00403714-1707-1-c000.snappy.parquet', name='part-00037-tid-8403372472510479157-33e61a39-de86-47d9-866a-189c00403714-1707-1-c000.snappy.parquet', size=46351247, modificationTime=1733179117819),\n",
       " FileInfo(path='dbfs:/mnt/gcs-data/processed_reviews.parquet/part-00038-tid-8403372472510479157-33e61a39-de86-47d9-866a-189c00403714-1739-1-c000.snappy.parquet', name='part-00038-tid-8403372472510479157-33e61a39-de86-47d9-866a-189c00403714-1739-1-c000.snappy.parquet', size=46504416, modificationTime=1733179122973),\n",
       " FileInfo(path='dbfs:/mnt/gcs-data/processed_reviews.parquet/part-00039-tid-8403372472510479157-33e61a39-de86-47d9-866a-189c00403714-1744-1-c000.snappy.parquet', name='part-00039-tid-8403372472510479157-33e61a39-de86-47d9-866a-189c00403714-1744-1-c000.snappy.parquet', size=46414296, modificationTime=1733179122968),\n",
       " FileInfo(path='dbfs:/mnt/gcs-data/processed_reviews.parquet/part-00040-tid-8403372472510479157-33e61a39-de86-47d9-866a-189c00403714-1718-1-c000.snappy.parquet', name='part-00040-tid-8403372472510479157-33e61a39-de86-47d9-866a-189c00403714-1718-1-c000.snappy.parquet', size=46852762, modificationTime=1733179119620),\n",
       " FileInfo(path='dbfs:/mnt/gcs-data/processed_reviews.parquet/part-00041-tid-8403372472510479157-33e61a39-de86-47d9-866a-189c00403714-1731-1-c000.snappy.parquet', name='part-00041-tid-8403372472510479157-33e61a39-de86-47d9-866a-189c00403714-1731-1-c000.snappy.parquet', size=46775038, modificationTime=1733179120522),\n",
       " FileInfo(path='dbfs:/mnt/gcs-data/processed_reviews.parquet/part-00042-tid-8403372472510479157-33e61a39-de86-47d9-866a-189c00403714-1700-1-c000.snappy.parquet', name='part-00042-tid-8403372472510479157-33e61a39-de86-47d9-866a-189c00403714-1700-1-c000.snappy.parquet', size=46956321, modificationTime=1733179116511),\n",
       " FileInfo(path='dbfs:/mnt/gcs-data/processed_reviews.parquet/part-00043-tid-8403372472510479157-33e61a39-de86-47d9-866a-189c00403714-1730-1-c000.snappy.parquet', name='part-00043-tid-8403372472510479157-33e61a39-de86-47d9-866a-189c00403714-1730-1-c000.snappy.parquet', size=46530668, modificationTime=1733179120211),\n",
       " FileInfo(path='dbfs:/mnt/gcs-data/processed_reviews.parquet/part-00044-tid-8403372472510479157-33e61a39-de86-47d9-866a-189c00403714-1716-1-c000.snappy.parquet', name='part-00044-tid-8403372472510479157-33e61a39-de86-47d9-866a-189c00403714-1716-1-c000.snappy.parquet', size=46839027, modificationTime=1733179119450),\n",
       " FileInfo(path='dbfs:/mnt/gcs-data/processed_reviews.parquet/part-00045-tid-8403372472510479157-33e61a39-de86-47d9-866a-189c00403714-1715-1-c000.snappy.parquet', name='part-00045-tid-8403372472510479157-33e61a39-de86-47d9-866a-189c00403714-1715-1-c000.snappy.parquet', size=46535540, modificationTime=1733179117204),\n",
       " FileInfo(path='dbfs:/mnt/gcs-data/processed_reviews.parquet/part-00046-tid-8403372472510479157-33e61a39-de86-47d9-866a-189c00403714-1726-1-c000.snappy.parquet', name='part-00046-tid-8403372472510479157-33e61a39-de86-47d9-866a-189c00403714-1726-1-c000.snappy.parquet', size=46718191, modificationTime=1733179120067),\n",
       " FileInfo(path='dbfs:/mnt/gcs-data/processed_reviews.parquet/part-00047-tid-8403372472510479157-33e61a39-de86-47d9-866a-189c00403714-1705-1-c000.snappy.parquet', name='part-00047-tid-8403372472510479157-33e61a39-de86-47d9-866a-189c00403714-1705-1-c000.snappy.parquet', size=46263424, modificationTime=1733179116772),\n",
       " FileInfo(path='dbfs:/mnt/gcs-data/processed_reviews.parquet/part-00048-tid-8403372472510479157-33e61a39-de86-47d9-866a-189c00403714-1751-1-c000.snappy.parquet', name='part-00048-tid-8403372472510479157-33e61a39-de86-47d9-866a-189c00403714-1751-1-c000.snappy.parquet', size=46568709, modificationTime=1733179125261),\n",
       " FileInfo(path='dbfs:/mnt/gcs-data/processed_reviews.parquet/part-00049-tid-8403372472510479157-33e61a39-de86-47d9-866a-189c00403714-1750-1-c000.snappy.parquet', name='part-00049-tid-8403372472510479157-33e61a39-de86-47d9-866a-189c00403714-1750-1-c000.snappy.parquet', size=46530428, modificationTime=1733179125171),\n",
       " FileInfo(path='dbfs:/mnt/gcs-data/processed_reviews.parquet/part-00050-tid-8403372472510479157-33e61a39-de86-47d9-866a-189c00403714-1727-1-c000.snappy.parquet', name='part-00050-tid-8403372472510479157-33e61a39-de86-47d9-866a-189c00403714-1727-1-c000.snappy.parquet', size=46692730, modificationTime=1733179120057),\n",
       " FileInfo(path='dbfs:/mnt/gcs-data/processed_reviews.parquet/part-00051-tid-8403372472510479157-33e61a39-de86-47d9-866a-189c00403714-1745-1-c000.snappy.parquet', name='part-00051-tid-8403372472510479157-33e61a39-de86-47d9-866a-189c00403714-1745-1-c000.snappy.parquet', size=46417733, modificationTime=1733179122949),\n",
       " FileInfo(path='dbfs:/mnt/gcs-data/processed_reviews.parquet/part-00052-tid-8403372472510479157-33e61a39-de86-47d9-866a-189c00403714-1754-1-c000.snappy.parquet', name='part-00052-tid-8403372472510479157-33e61a39-de86-47d9-866a-189c00403714-1754-1-c000.snappy.parquet', size=46210457, modificationTime=1733179125418),\n",
       " FileInfo(path='dbfs:/mnt/gcs-data/processed_reviews.parquet/part-00053-tid-8403372472510479157-33e61a39-de86-47d9-866a-189c00403714-1711-1-c000.snappy.parquet', name='part-00053-tid-8403372472510479157-33e61a39-de86-47d9-866a-189c00403714-1711-1-c000.snappy.parquet', size=46893810, modificationTime=1733179117628),\n",
       " FileInfo(path='dbfs:/mnt/gcs-data/processed_reviews.parquet/part-00054-tid-8403372472510479157-33e61a39-de86-47d9-866a-189c00403714-1761-1-c000.snappy.parquet', name='part-00054-tid-8403372472510479157-33e61a39-de86-47d9-866a-189c00403714-1761-1-c000.snappy.parquet', size=46260054, modificationTime=1733179125817),\n",
       " FileInfo(path='dbfs:/mnt/gcs-data/processed_reviews.parquet/part-00055-tid-8403372472510479157-33e61a39-de86-47d9-866a-189c00403714-1702-1-c000.snappy.parquet', name='part-00055-tid-8403372472510479157-33e61a39-de86-47d9-866a-189c00403714-1702-1-c000.snappy.parquet', size=46860278, modificationTime=1733179116871),\n",
       " FileInfo(path='dbfs:/mnt/gcs-data/processed_reviews.parquet/part-00056-tid-8403372472510479157-33e61a39-de86-47d9-866a-189c00403714-1741-1-c000.snappy.parquet', name='part-00056-tid-8403372472510479157-33e61a39-de86-47d9-866a-189c00403714-1741-1-c000.snappy.parquet', size=46698549, modificationTime=1733179122573),\n",
       " FileInfo(path='dbfs:/mnt/gcs-data/processed_reviews.parquet/part-00057-tid-8403372472510479157-33e61a39-de86-47d9-866a-189c00403714-1720-1-c000.snappy.parquet', name='part-00057-tid-8403372472510479157-33e61a39-de86-47d9-866a-189c00403714-1720-1-c000.snappy.parquet', size=46846363, modificationTime=1733179120109),\n",
       " FileInfo(path='dbfs:/mnt/gcs-data/processed_reviews.parquet/part-00058-tid-8403372472510479157-33e61a39-de86-47d9-866a-189c00403714-1736-1-c000.snappy.parquet', name='part-00058-tid-8403372472510479157-33e61a39-de86-47d9-866a-189c00403714-1736-1-c000.snappy.parquet', size=46843283, modificationTime=1733179122594),\n",
       " FileInfo(path='dbfs:/mnt/gcs-data/processed_reviews.parquet/part-00059-tid-8403372472510479157-33e61a39-de86-47d9-866a-189c00403714-1714-1-c000.snappy.parquet', name='part-00059-tid-8403372472510479157-33e61a39-de86-47d9-866a-189c00403714-1714-1-c000.snappy.parquet', size=46621810, modificationTime=1733179116933),\n",
       " FileInfo(path='dbfs:/mnt/gcs-data/processed_reviews.parquet/part-00060-tid-8403372472510479157-33e61a39-de86-47d9-866a-189c00403714-1765-1-c000.snappy.parquet', name='part-00060-tid-8403372472510479157-33e61a39-de86-47d9-866a-189c00403714-1765-1-c000.snappy.parquet', size=46262847, modificationTime=1733179127343),\n",
       " FileInfo(path='dbfs:/mnt/gcs-data/processed_reviews.parquet/part-00061-tid-8403372472510479157-33e61a39-de86-47d9-866a-189c00403714-1733-1-c000.snappy.parquet', name='part-00061-tid-8403372472510479157-33e61a39-de86-47d9-866a-189c00403714-1733-1-c000.snappy.parquet', size=46553093, modificationTime=1733179122448),\n",
       " FileInfo(path='dbfs:/mnt/gcs-data/processed_reviews.parquet/part-00062-tid-8403372472510479157-33e61a39-de86-47d9-866a-189c00403714-1752-1-c000.snappy.parquet', name='part-00062-tid-8403372472510479157-33e61a39-de86-47d9-866a-189c00403714-1752-1-c000.snappy.parquet', size=46491436, modificationTime=1733179125323),\n",
       " FileInfo(path='dbfs:/mnt/gcs-data/processed_reviews.parquet/part-00063-tid-8403372472510479157-33e61a39-de86-47d9-866a-189c00403714-1710-1-c000.snappy.parquet', name='part-00063-tid-8403372472510479157-33e61a39-de86-47d9-866a-189c00403714-1710-1-c000.snappy.parquet', size=46736465, modificationTime=1733179116759),\n",
       " FileInfo(path='dbfs:/mnt/gcs-data/processed_reviews.parquet/part-00064-tid-8403372472510479157-33e61a39-de86-47d9-866a-189c00403714-1737-1-c000.snappy.parquet', name='part-00064-tid-8403372472510479157-33e61a39-de86-47d9-866a-189c00403714-1737-1-c000.snappy.parquet', size=46560471, modificationTime=1733179122739),\n",
       " FileInfo(path='dbfs:/mnt/gcs-data/processed_reviews.parquet/part-00065-tid-8403372472510479157-33e61a39-de86-47d9-866a-189c00403714-1734-1-c000.snappy.parquet', name='part-00065-tid-8403372472510479157-33e61a39-de86-47d9-866a-189c00403714-1734-1-c000.snappy.parquet', size=46487149, modificationTime=1733179122611),\n",
       " FileInfo(path='dbfs:/mnt/gcs-data/processed_reviews.parquet/part-00066-tid-8403372472510479157-33e61a39-de86-47d9-866a-189c00403714-1766-1-c000.snappy.parquet', name='part-00066-tid-8403372472510479157-33e61a39-de86-47d9-866a-189c00403714-1766-1-c000.snappy.parquet', size=30718907, modificationTime=1733179126582)]"
      ]
     },
     "execution_count": 63,
     "metadata": {},
     "output_type": "execute_result"
    }
   ],
   "source": [
    "# Verify if the file is written to the location\n",
    "dbutils.fs.ls(\"dbfs:/mnt/gcs-data/processed_reviews.parquet/\")"
   ]
  },
  {
   "cell_type": "markdown",
   "metadata": {
    "application/vnd.databricks.v1+cell": {
     "cellMetadata": {},
     "inputWidgets": {},
     "nuid": "a9836cea-cbeb-438e-bbdf-3580b8a44173",
     "showTitle": false,
     "tableResultSettingsMap": {},
     "title": ""
    }
   },
   "source": [
    "Success"
   ]
  }
 ],
 "metadata": {
  "application/vnd.databricks.v1+notebook": {
   "dashboards": [],
   "environmentMetadata": {
    "base_environment": "",
    "client": "1"
   },
   "language": "python",
   "notebookMetadata": {
    "pythonIndentUnit": 4
   },
   "notebookName": "603-project-processing-data",
   "widgets": {}
  },
  "kernelspec": {
   "display_name": "Python 3 (ipykernel)",
   "language": "python",
   "name": "python3"
  },
  "language_info": {
   "codemirror_mode": {
    "name": "ipython",
    "version": 3
   },
   "file_extension": ".py",
   "mimetype": "text/x-python",
   "name": "python",
   "nbconvert_exporter": "python",
   "pygments_lexer": "ipython3",
   "version": "3.11.5"
  }
 },
 "nbformat": 4,
 "nbformat_minor": 1
}
