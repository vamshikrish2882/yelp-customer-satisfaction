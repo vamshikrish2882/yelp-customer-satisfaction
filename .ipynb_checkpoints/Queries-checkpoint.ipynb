{
 "cells": [
  {
   "cell_type": "code",
   "execution_count": 34,
   "metadata": {
    "colab": {
     "base_uri": "https://localhost:8080/"
    },
    "id": "rPVOTZSV5I3U",
    "outputId": "a5ffaf8b-4c0f-4f9c-d16a-e6551e88833f"
   },
   "outputs": [
    {
     "name": "stdout",
     "output_type": "stream",
     "text": [
      "Collecting pandasql\n",
      "  Downloading pandasql-0.7.3.tar.gz (26 kB)\n",
      "  Preparing metadata (setup.py) ... \u001b[?25l\u001b[?25hdone\n",
      "Requirement already satisfied: numpy in /usr/local/lib/python3.10/dist-packages (from pandasql) (1.26.4)\n",
      "Requirement already satisfied: pandas in /usr/local/lib/python3.10/dist-packages (from pandasql) (2.2.2)\n",
      "Requirement already satisfied: sqlalchemy in /usr/local/lib/python3.10/dist-packages (from pandasql) (2.0.36)\n",
      "Requirement already satisfied: python-dateutil>=2.8.2 in /usr/local/lib/python3.10/dist-packages (from pandas->pandasql) (2.8.2)\n",
      "Requirement already satisfied: pytz>=2020.1 in /usr/local/lib/python3.10/dist-packages (from pandas->pandasql) (2024.2)\n",
      "Requirement already satisfied: tzdata>=2022.7 in /usr/local/lib/python3.10/dist-packages (from pandas->pandasql) (2024.2)\n",
      "Requirement already satisfied: typing-extensions>=4.6.0 in /usr/local/lib/python3.10/dist-packages (from sqlalchemy->pandasql) (4.12.2)\n",
      "Requirement already satisfied: greenlet!=0.4.17 in /usr/local/lib/python3.10/dist-packages (from sqlalchemy->pandasql) (3.1.1)\n",
      "Requirement already satisfied: six>=1.5 in /usr/local/lib/python3.10/dist-packages (from python-dateutil>=2.8.2->pandas->pandasql) (1.16.0)\n",
      "Building wheels for collected packages: pandasql\n",
      "  Building wheel for pandasql (setup.py) ... \u001b[?25l\u001b[?25hdone\n",
      "  Created wheel for pandasql: filename=pandasql-0.7.3-py3-none-any.whl size=26772 sha256=a8efd64881a9436c257eaa8efb69ec5adfc5b087db93a9804a1c59bb439cd8ce\n",
      "  Stored in directory: /root/.cache/pip/wheels/e9/bc/3a/8434bdcccf5779e72894a9b24fecbdcaf97940607eaf4bcdf9\n",
      "Successfully built pandasql\n",
      "Installing collected packages: pandasql\n",
      "Successfully installed pandasql-0.7.3\n"
     ]
    }
   ],
   "source": [
    "pip install pandasql"
   ]
  },
  {
   "cell_type": "code",
   "execution_count": 21,
   "metadata": {
    "colab": {
     "base_uri": "https://localhost:8080/"
    },
    "id": "4QIjZrKseQff",
    "outputId": "7e471be4-5948-4fd2-be11-ebecb96cc499"
   },
   "outputs": [
    {
     "name": "stdout",
     "output_type": "stream",
     "text": [
      "Drive already mounted at /content/drive; to attempt to forcibly remount, call drive.mount(\"/content/drive\", force_remount=True).\n"
     ]
    }
   ],
   "source": [
    "from google.colab import drive\n",
    "drive.mount('/content/drive')\n"
   ]
  },
  {
   "cell_type": "code",
   "execution_count": 22,
   "metadata": {
    "colab": {
     "base_uri": "https://localhost:8080/"
    },
    "id": "Eiyq2O3vpckA",
    "outputId": "dd3ec653-7992-4ae6-a743-0b2344b45542"
   },
   "outputs": [
    {
     "name": "stdout",
     "output_type": "stream",
     "text": [
      "Error loading CSV: read_csv() got an unexpected keyword argument 'error_bad_lines'\n"
     ]
    }
   ],
   "source": [
    "import pandas as pd\n",
    "\n",
    "file_path = \"/content/drive/MyDrive/final_reviews_sentiment.csv\"\n",
    "\n",
    "# Load CSV with error handling, skip bad lines\n",
    "try:\n",
    "    df = pd.read_csv(file_path, quotechar='\"', escapechar='\\\\', error_bad_lines=False)\n",
    "    print(f\"Data loaded with shape: {df.shape}\")\n",
    "except Exception as e:\n",
    "    print(f\"Error loading CSV: {e}\")"
   ]
  },
  {
   "cell_type": "code",
   "execution_count": 23,
   "metadata": {
    "id": "nFtE4bbeeUyn"
   },
   "outputs": [],
   "source": [
    "file_path = '/content/drive/MyDrive/final_reviews_sentiment.csv'\n",
    "df = pd.read_csv(file_path)\n"
   ]
  },
  {
   "cell_type": "code",
   "execution_count": 24,
   "metadata": {
    "colab": {
     "base_uri": "https://localhost:8080/",
     "height": 680
    },
    "id": "bH6mQFmUe2Qq",
    "outputId": "23f3d876-19c9-4334-e7e9-9db4dcbdba01"
   },
   "outputs": [
    {
     "name": "stdout",
     "output_type": "stream",
     "text": [
      "<class 'pandas.core.frame.DataFrame'>\n",
      "RangeIndex: 1000000 entries, 0 to 999999\n",
      "Data columns (total 14 columns):\n",
      " #   Column           Non-Null Count    Dtype  \n",
      "---  ------           --------------    -----  \n",
      " 0   business_id      1000000 non-null  object \n",
      " 1   cool             1000000 non-null  int64  \n",
      " 2   date             1000000 non-null  object \n",
      " 3   funny            1000000 non-null  int64  \n",
      " 4   review_id        1000000 non-null  object \n",
      " 5   stars            1000000 non-null  float64\n",
      " 6   text             1000000 non-null  object \n",
      " 7   useful           1000000 non-null  int64  \n",
      " 8   user_id          1000000 non-null  object \n",
      " 9   review_length    1000000 non-null  int64  \n",
      " 10  review_year      1000000 non-null  int64  \n",
      " 11  review_month     1000000 non-null  int64  \n",
      " 12  rating_category  1000000 non-null  object \n",
      " 13  sentiment        1000000 non-null  object \n",
      "dtypes: float64(1), int64(6), object(7)\n",
      "memory usage: 106.8+ MB\n"
     ]
    },
    {
     "data": {
      "application/vnd.google.colaboratory.intrinsic+json": {
       "summary": "{\n  \"name\": \"df\",\n  \"rows\": 8,\n  \"fields\": [\n    {\n      \"column\": \"cool\",\n      \"properties\": {\n        \"dtype\": \"number\",\n        \"std\": 353535.2032042937,\n        \"min\": -1.0,\n        \"max\": 1000000.0,\n        \"num_unique_values\": 6,\n        \"samples\": [\n          1000000.0,\n          0.488093,\n          359.0\n        ],\n        \"semantic_type\": \"\",\n        \"description\": \"\"\n      }\n    },\n    {\n      \"column\": \"funny\",\n      \"properties\": {\n        \"dtype\": \"number\",\n        \"std\": 353534.7300437819,\n        \"min\": -1.0,\n        \"max\": 1000000.0,\n        \"num_unique_values\": 6,\n        \"samples\": [\n          1000000.0,\n          0.315746,\n          369.0\n        ],\n        \"semantic_type\": \"\",\n        \"description\": \"\"\n      }\n    },\n    {\n      \"column\": \"stars\",\n      \"properties\": {\n        \"dtype\": \"number\",\n        \"std\": 353552.2171780493,\n        \"min\": 1.0,\n        \"max\": 1000000.0,\n        \"num_unique_values\": 7,\n        \"samples\": [\n          1000000.0,\n          3.758164,\n          4.0\n        ],\n        \"semantic_type\": \"\",\n        \"description\": \"\"\n      }\n    },\n    {\n      \"column\": \"useful\",\n      \"properties\": {\n        \"dtype\": \"number\",\n        \"std\": 353493.70961844,\n        \"min\": -1.0,\n        \"max\": 1000000.0,\n        \"num_unique_values\": 7,\n        \"samples\": [\n          1000000.0,\n          1.151757,\n          1.0\n        ],\n        \"semantic_type\": \"\",\n        \"description\": \"\"\n      }\n    },\n    {\n      \"column\": \"review_length\",\n      \"properties\": {\n        \"dtype\": \"number\",\n        \"std\": 353505.835979,\n        \"min\": 1.0,\n        \"max\": 1000000.0,\n        \"num_unique_values\": 8,\n        \"samples\": [\n          100.084665,\n          74.0,\n          1000000.0\n        ],\n        \"semantic_type\": \"\",\n        \"description\": \"\"\n      }\n    },\n    {\n      \"column\": \"review_year\",\n      \"properties\": {\n        \"dtype\": \"number\",\n        \"std\": 352943.0714460206,\n        \"min\": 3.0770302598323456,\n        \"max\": 1000000.0,\n        \"num_unique_values\": 8,\n        \"samples\": [\n          2016.539016,\n          2017.0,\n          1000000.0\n        ],\n        \"semantic_type\": \"\",\n        \"description\": \"\"\n      }\n    },\n    {\n      \"column\": \"review_month\",\n      \"properties\": {\n        \"dtype\": \"number\",\n        \"std\": 353551.2768056151,\n        \"min\": 1.0,\n        \"max\": 1000000.0,\n        \"num_unique_values\": 8,\n        \"samples\": [\n          6.449989,\n          7.0,\n          1000000.0\n        ],\n        \"semantic_type\": \"\",\n        \"description\": \"\"\n      }\n    }\n  ]\n}",
       "type": "dataframe"
      },
      "text/html": [
       "\n",
       "  <div id=\"df-eb4ffb21-df7c-4416-bc44-6693bc409be0\" class=\"colab-df-container\">\n",
       "    <div>\n",
       "<style scoped>\n",
       "    .dataframe tbody tr th:only-of-type {\n",
       "        vertical-align: middle;\n",
       "    }\n",
       "\n",
       "    .dataframe tbody tr th {\n",
       "        vertical-align: top;\n",
       "    }\n",
       "\n",
       "    .dataframe thead th {\n",
       "        text-align: right;\n",
       "    }\n",
       "</style>\n",
       "<table border=\"1\" class=\"dataframe\">\n",
       "  <thead>\n",
       "    <tr style=\"text-align: right;\">\n",
       "      <th></th>\n",
       "      <th>cool</th>\n",
       "      <th>funny</th>\n",
       "      <th>stars</th>\n",
       "      <th>useful</th>\n",
       "      <th>review_length</th>\n",
       "      <th>review_year</th>\n",
       "      <th>review_month</th>\n",
       "    </tr>\n",
       "  </thead>\n",
       "  <tbody>\n",
       "    <tr>\n",
       "      <th>count</th>\n",
       "      <td>1000000.000000</td>\n",
       "      <td>1000000.000000</td>\n",
       "      <td>1000000.000000</td>\n",
       "      <td>1000000.000000</td>\n",
       "      <td>1000000.000000</td>\n",
       "      <td>1000000.000000</td>\n",
       "      <td>1000000.000000</td>\n",
       "    </tr>\n",
       "    <tr>\n",
       "      <th>mean</th>\n",
       "      <td>0.488093</td>\n",
       "      <td>0.315746</td>\n",
       "      <td>3.758164</td>\n",
       "      <td>1.151757</td>\n",
       "      <td>100.084665</td>\n",
       "      <td>2016.539016</td>\n",
       "      <td>6.449989</td>\n",
       "    </tr>\n",
       "    <tr>\n",
       "      <th>std</th>\n",
       "      <td>2.045129</td>\n",
       "      <td>1.610770</td>\n",
       "      <td>1.474333</td>\n",
       "      <td>3.256298</td>\n",
       "      <td>83.155012</td>\n",
       "      <td>3.077030</td>\n",
       "      <td>3.401219</td>\n",
       "    </tr>\n",
       "    <tr>\n",
       "      <th>min</th>\n",
       "      <td>-1.000000</td>\n",
       "      <td>-1.000000</td>\n",
       "      <td>1.000000</td>\n",
       "      <td>-1.000000</td>\n",
       "      <td>1.000000</td>\n",
       "      <td>2005.000000</td>\n",
       "      <td>1.000000</td>\n",
       "    </tr>\n",
       "    <tr>\n",
       "      <th>25%</th>\n",
       "      <td>0.000000</td>\n",
       "      <td>0.000000</td>\n",
       "      <td>3.000000</td>\n",
       "      <td>0.000000</td>\n",
       "      <td>41.000000</td>\n",
       "      <td>2015.000000</td>\n",
       "      <td>3.000000</td>\n",
       "    </tr>\n",
       "    <tr>\n",
       "      <th>50%</th>\n",
       "      <td>0.000000</td>\n",
       "      <td>0.000000</td>\n",
       "      <td>4.000000</td>\n",
       "      <td>0.000000</td>\n",
       "      <td>74.000000</td>\n",
       "      <td>2017.000000</td>\n",
       "      <td>7.000000</td>\n",
       "    </tr>\n",
       "    <tr>\n",
       "      <th>75%</th>\n",
       "      <td>0.000000</td>\n",
       "      <td>0.000000</td>\n",
       "      <td>5.000000</td>\n",
       "      <td>1.000000</td>\n",
       "      <td>131.000000</td>\n",
       "      <td>2019.000000</td>\n",
       "      <td>9.000000</td>\n",
       "    </tr>\n",
       "    <tr>\n",
       "      <th>max</th>\n",
       "      <td>359.000000</td>\n",
       "      <td>369.000000</td>\n",
       "      <td>5.000000</td>\n",
       "      <td>1182.000000</td>\n",
       "      <td>512.000000</td>\n",
       "      <td>2022.000000</td>\n",
       "      <td>12.000000</td>\n",
       "    </tr>\n",
       "  </tbody>\n",
       "</table>\n",
       "</div>\n",
       "    <div class=\"colab-df-buttons\">\n",
       "\n",
       "  <div class=\"colab-df-container\">\n",
       "    <button class=\"colab-df-convert\" onclick=\"convertToInteractive('df-eb4ffb21-df7c-4416-bc44-6693bc409be0')\"\n",
       "            title=\"Convert this dataframe to an interactive table.\"\n",
       "            style=\"display:none;\">\n",
       "\n",
       "  <svg xmlns=\"http://www.w3.org/2000/svg\" height=\"24px\" viewBox=\"0 -960 960 960\">\n",
       "    <path d=\"M120-120v-720h720v720H120Zm60-500h600v-160H180v160Zm220 220h160v-160H400v160Zm0 220h160v-160H400v160ZM180-400h160v-160H180v160Zm440 0h160v-160H620v160ZM180-180h160v-160H180v160Zm440 0h160v-160H620v160Z\"/>\n",
       "  </svg>\n",
       "    </button>\n",
       "\n",
       "  <style>\n",
       "    .colab-df-container {\n",
       "      display:flex;\n",
       "      gap: 12px;\n",
       "    }\n",
       "\n",
       "    .colab-df-convert {\n",
       "      background-color: #E8F0FE;\n",
       "      border: none;\n",
       "      border-radius: 50%;\n",
       "      cursor: pointer;\n",
       "      display: none;\n",
       "      fill: #1967D2;\n",
       "      height: 32px;\n",
       "      padding: 0 0 0 0;\n",
       "      width: 32px;\n",
       "    }\n",
       "\n",
       "    .colab-df-convert:hover {\n",
       "      background-color: #E2EBFA;\n",
       "      box-shadow: 0px 1px 2px rgba(60, 64, 67, 0.3), 0px 1px 3px 1px rgba(60, 64, 67, 0.15);\n",
       "      fill: #174EA6;\n",
       "    }\n",
       "\n",
       "    .colab-df-buttons div {\n",
       "      margin-bottom: 4px;\n",
       "    }\n",
       "\n",
       "    [theme=dark] .colab-df-convert {\n",
       "      background-color: #3B4455;\n",
       "      fill: #D2E3FC;\n",
       "    }\n",
       "\n",
       "    [theme=dark] .colab-df-convert:hover {\n",
       "      background-color: #434B5C;\n",
       "      box-shadow: 0px 1px 3px 1px rgba(0, 0, 0, 0.15);\n",
       "      filter: drop-shadow(0px 1px 2px rgba(0, 0, 0, 0.3));\n",
       "      fill: #FFFFFF;\n",
       "    }\n",
       "  </style>\n",
       "\n",
       "    <script>\n",
       "      const buttonEl =\n",
       "        document.querySelector('#df-eb4ffb21-df7c-4416-bc44-6693bc409be0 button.colab-df-convert');\n",
       "      buttonEl.style.display =\n",
       "        google.colab.kernel.accessAllowed ? 'block' : 'none';\n",
       "\n",
       "      async function convertToInteractive(key) {\n",
       "        const element = document.querySelector('#df-eb4ffb21-df7c-4416-bc44-6693bc409be0');\n",
       "        const dataTable =\n",
       "          await google.colab.kernel.invokeFunction('convertToInteractive',\n",
       "                                                    [key], {});\n",
       "        if (!dataTable) return;\n",
       "\n",
       "        const docLinkHtml = 'Like what you see? Visit the ' +\n",
       "          '<a target=\"_blank\" href=https://colab.research.google.com/notebooks/data_table.ipynb>data table notebook</a>'\n",
       "          + ' to learn more about interactive tables.';\n",
       "        element.innerHTML = '';\n",
       "        dataTable['output_type'] = 'display_data';\n",
       "        await google.colab.output.renderOutput(dataTable, element);\n",
       "        const docLink = document.createElement('div');\n",
       "        docLink.innerHTML = docLinkHtml;\n",
       "        element.appendChild(docLink);\n",
       "      }\n",
       "    </script>\n",
       "  </div>\n",
       "\n",
       "\n",
       "<div id=\"df-7d041f7f-b5bd-478b-84a2-a3bd71180a64\">\n",
       "  <button class=\"colab-df-quickchart\" onclick=\"quickchart('df-7d041f7f-b5bd-478b-84a2-a3bd71180a64')\"\n",
       "            title=\"Suggest charts\"\n",
       "            style=\"display:none;\">\n",
       "\n",
       "<svg xmlns=\"http://www.w3.org/2000/svg\" height=\"24px\"viewBox=\"0 0 24 24\"\n",
       "     width=\"24px\">\n",
       "    <g>\n",
       "        <path d=\"M19 3H5c-1.1 0-2 .9-2 2v14c0 1.1.9 2 2 2h14c1.1 0 2-.9 2-2V5c0-1.1-.9-2-2-2zM9 17H7v-7h2v7zm4 0h-2V7h2v10zm4 0h-2v-4h2v4z\"/>\n",
       "    </g>\n",
       "</svg>\n",
       "  </button>\n",
       "\n",
       "<style>\n",
       "  .colab-df-quickchart {\n",
       "      --bg-color: #E8F0FE;\n",
       "      --fill-color: #1967D2;\n",
       "      --hover-bg-color: #E2EBFA;\n",
       "      --hover-fill-color: #174EA6;\n",
       "      --disabled-fill-color: #AAA;\n",
       "      --disabled-bg-color: #DDD;\n",
       "  }\n",
       "\n",
       "  [theme=dark] .colab-df-quickchart {\n",
       "      --bg-color: #3B4455;\n",
       "      --fill-color: #D2E3FC;\n",
       "      --hover-bg-color: #434B5C;\n",
       "      --hover-fill-color: #FFFFFF;\n",
       "      --disabled-bg-color: #3B4455;\n",
       "      --disabled-fill-color: #666;\n",
       "  }\n",
       "\n",
       "  .colab-df-quickchart {\n",
       "    background-color: var(--bg-color);\n",
       "    border: none;\n",
       "    border-radius: 50%;\n",
       "    cursor: pointer;\n",
       "    display: none;\n",
       "    fill: var(--fill-color);\n",
       "    height: 32px;\n",
       "    padding: 0;\n",
       "    width: 32px;\n",
       "  }\n",
       "\n",
       "  .colab-df-quickchart:hover {\n",
       "    background-color: var(--hover-bg-color);\n",
       "    box-shadow: 0 1px 2px rgba(60, 64, 67, 0.3), 0 1px 3px 1px rgba(60, 64, 67, 0.15);\n",
       "    fill: var(--button-hover-fill-color);\n",
       "  }\n",
       "\n",
       "  .colab-df-quickchart-complete:disabled,\n",
       "  .colab-df-quickchart-complete:disabled:hover {\n",
       "    background-color: var(--disabled-bg-color);\n",
       "    fill: var(--disabled-fill-color);\n",
       "    box-shadow: none;\n",
       "  }\n",
       "\n",
       "  .colab-df-spinner {\n",
       "    border: 2px solid var(--fill-color);\n",
       "    border-color: transparent;\n",
       "    border-bottom-color: var(--fill-color);\n",
       "    animation:\n",
       "      spin 1s steps(1) infinite;\n",
       "  }\n",
       "\n",
       "  @keyframes spin {\n",
       "    0% {\n",
       "      border-color: transparent;\n",
       "      border-bottom-color: var(--fill-color);\n",
       "      border-left-color: var(--fill-color);\n",
       "    }\n",
       "    20% {\n",
       "      border-color: transparent;\n",
       "      border-left-color: var(--fill-color);\n",
       "      border-top-color: var(--fill-color);\n",
       "    }\n",
       "    30% {\n",
       "      border-color: transparent;\n",
       "      border-left-color: var(--fill-color);\n",
       "      border-top-color: var(--fill-color);\n",
       "      border-right-color: var(--fill-color);\n",
       "    }\n",
       "    40% {\n",
       "      border-color: transparent;\n",
       "      border-right-color: var(--fill-color);\n",
       "      border-top-color: var(--fill-color);\n",
       "    }\n",
       "    60% {\n",
       "      border-color: transparent;\n",
       "      border-right-color: var(--fill-color);\n",
       "    }\n",
       "    80% {\n",
       "      border-color: transparent;\n",
       "      border-right-color: var(--fill-color);\n",
       "      border-bottom-color: var(--fill-color);\n",
       "    }\n",
       "    90% {\n",
       "      border-color: transparent;\n",
       "      border-bottom-color: var(--fill-color);\n",
       "    }\n",
       "  }\n",
       "</style>\n",
       "\n",
       "  <script>\n",
       "    async function quickchart(key) {\n",
       "      const quickchartButtonEl =\n",
       "        document.querySelector('#' + key + ' button');\n",
       "      quickchartButtonEl.disabled = true;  // To prevent multiple clicks.\n",
       "      quickchartButtonEl.classList.add('colab-df-spinner');\n",
       "      try {\n",
       "        const charts = await google.colab.kernel.invokeFunction(\n",
       "            'suggestCharts', [key], {});\n",
       "      } catch (error) {\n",
       "        console.error('Error during call to suggestCharts:', error);\n",
       "      }\n",
       "      quickchartButtonEl.classList.remove('colab-df-spinner');\n",
       "      quickchartButtonEl.classList.add('colab-df-quickchart-complete');\n",
       "    }\n",
       "    (() => {\n",
       "      let quickchartButtonEl =\n",
       "        document.querySelector('#df-7d041f7f-b5bd-478b-84a2-a3bd71180a64 button');\n",
       "      quickchartButtonEl.style.display =\n",
       "        google.colab.kernel.accessAllowed ? 'block' : 'none';\n",
       "    })();\n",
       "  </script>\n",
       "</div>\n",
       "\n",
       "    </div>\n",
       "  </div>\n"
      ],
      "text/plain": [
       "                 cool           funny           stars          useful  \\\n",
       "count  1000000.000000  1000000.000000  1000000.000000  1000000.000000   \n",
       "mean         0.488093        0.315746        3.758164        1.151757   \n",
       "std          2.045129        1.610770        1.474333        3.256298   \n",
       "min         -1.000000       -1.000000        1.000000       -1.000000   \n",
       "25%          0.000000        0.000000        3.000000        0.000000   \n",
       "50%          0.000000        0.000000        4.000000        0.000000   \n",
       "75%          0.000000        0.000000        5.000000        1.000000   \n",
       "max        359.000000      369.000000        5.000000     1182.000000   \n",
       "\n",
       "        review_length     review_year    review_month  \n",
       "count  1000000.000000  1000000.000000  1000000.000000  \n",
       "mean       100.084665     2016.539016        6.449989  \n",
       "std         83.155012        3.077030        3.401219  \n",
       "min          1.000000     2005.000000        1.000000  \n",
       "25%         41.000000     2015.000000        3.000000  \n",
       "50%         74.000000     2017.000000        7.000000  \n",
       "75%        131.000000     2019.000000        9.000000  \n",
       "max        512.000000     2022.000000       12.000000  "
      ]
     },
     "execution_count": 24,
     "metadata": {},
     "output_type": "execute_result"
    }
   ],
   "source": [
    "# Display the first few rows of the data\n",
    "df.head()\n",
    "\n",
    "# Optional: Check for any missing values\n",
    "df.isnull().sum()\n",
    "\n",
    "# Check data info (column types, non-null counts)\n",
    "df.info()\n",
    "\n",
    "# Display the basic statistics of numeric columns\n",
    "df.describe()"
   ]
  },
  {
   "cell_type": "markdown",
   "metadata": {
    "id": "THtlznZs6FR6"
   },
   "source": [
    "**Sentiment Distribution - Understand the overall distribution of customer sentiments across the dataset**"
   ]
  },
  {
   "cell_type": "code",
   "execution_count": 35,
   "metadata": {
    "colab": {
     "base_uri": "https://localhost:8080/"
    },
    "id": "0mxGGaq33YL4",
    "outputId": "2ba66de1-80d7-4bd2-c05c-c0260114d52a"
   },
   "outputs": [
    {
     "name": "stdout",
     "output_type": "stream",
     "text": [
      "  sentiment  sentiment_count\n",
      "0  POSITIVE           691822\n",
      "1  NEGATIVE           308178\n"
     ]
    }
   ],
   "source": [
    "import pandasql as psql\n",
    "\n",
    "# SQL query\n",
    "query = \"\"\"\n",
    "    SELECT sentiment, COUNT(*) AS sentiment_count\n",
    "    FROM df\n",
    "    GROUP BY sentiment\n",
    "    ORDER BY sentiment_count DESC\n",
    "\"\"\"\n",
    "\n",
    "# Execute the query\n",
    "result = psql.sqldf(query, locals())\n",
    "\n",
    "# Display the result\n",
    "print(result)\n",
    "\n"
   ]
  },
  {
   "cell_type": "markdown",
   "metadata": {
    "id": "F9ECSs8O6IjQ"
   },
   "source": [
    "**Sentiment by Rating Category (Stars) - Analyze the sentiment distribution across different star ratings (1-5 stars).**"
   ]
  },
  {
   "cell_type": "code",
   "execution_count": 36,
   "metadata": {
    "colab": {
     "base_uri": "https://localhost:8080/"
    },
    "id": "u9cakIn14j7o",
    "outputId": "63acac74-980c-4999-bcde-f03c42d805e3"
   },
   "outputs": [
    {
     "name": "stdout",
     "output_type": "stream",
     "text": [
      "  rating_category sentiment  sentiment_count\n",
      "0            high  POSITIVE           630449\n",
      "1            high  NEGATIVE            42469\n",
      "2             low  NEGATIVE           214114\n",
      "3             low  POSITIVE            14237\n",
      "4          medium  NEGATIVE            51595\n",
      "5          medium  POSITIVE            47136\n"
     ]
    }
   ],
   "source": [
    "# SQL query to group by rating_category and sentiment, and count the sentiment\n",
    "query = \"\"\"\n",
    "    SELECT rating_category, sentiment, COUNT(*) AS sentiment_count\n",
    "    FROM df\n",
    "    GROUP BY rating_category, sentiment\n",
    "    ORDER BY rating_category, sentiment_count DESC\n",
    "\"\"\"\n",
    "\n",
    "# Execute the query using pandasql\n",
    "result = psql.sqldf(query, locals())\n",
    "\n",
    "# Display the result\n",
    "print(result)\n"
   ]
  },
  {
   "cell_type": "markdown",
   "metadata": {
    "id": "vRmI98Iz6Lz3"
   },
   "source": [
    "Average Rating by Sentiment - Calculate the average rating for each sentiment (positive, negative, neutral)."
   ]
  },
  {
   "cell_type": "code",
   "execution_count": 38,
   "metadata": {
    "colab": {
     "base_uri": "https://localhost:8080/"
    },
    "id": "7z8sXpbQ58EN",
    "outputId": "1b2eb249-1854-46f3-8c8e-a3452782fa10"
   },
   "outputs": [
    {
     "name": "stdout",
     "output_type": "stream",
     "text": [
      "  sentiment  avg_rating\n",
      "0  POSITIVE    4.529606\n",
      "1  NEGATIVE    2.026371\n"
     ]
    }
   ],
   "source": [
    "query = \"\"\"\n",
    "    SELECT sentiment, AVG(stars) AS avg_rating\n",
    "    FROM df\n",
    "    GROUP BY sentiment\n",
    "    ORDER BY avg_rating DESC;\n",
    "\"\"\"\n",
    "\n",
    "# Execute the query using pandasql\n",
    "result = psql.sqldf(query, locals())\n",
    "\n",
    "# Display the result\n",
    "print(result)"
   ]
  },
  {
   "cell_type": "markdown",
   "metadata": {
    "id": "fwPiAlSg6qCd"
   },
   "source": [
    " Reviews Per Year/Month by Sentiment - Track sentiment over time and identify trends in customer satisfaction."
   ]
  },
  {
   "cell_type": "code",
   "execution_count": 39,
   "metadata": {
    "colab": {
     "base_uri": "https://localhost:8080/"
    },
    "id": "ZnttUMNi6YzT",
    "outputId": "dd8b2c82-9f3b-451a-eb5f-2c455eae182d"
   },
   "outputs": [
    {
     "name": "stdout",
     "output_type": "stream",
     "text": [
      "    review_year sentiment  sentiment_count\n",
      "0          2005  POSITIVE               89\n",
      "1          2005  NEGATIVE               29\n",
      "2          2006  POSITIVE              409\n",
      "3          2006  NEGATIVE              129\n",
      "4          2007  POSITIVE             1718\n",
      "5          2007  NEGATIVE              599\n",
      "6          2008  POSITIVE             5067\n",
      "7          2008  NEGATIVE             1850\n",
      "8          2009  POSITIVE             7530\n",
      "9          2009  NEGATIVE             3004\n",
      "10         2010  POSITIVE            14140\n",
      "11         2010  NEGATIVE             5540\n",
      "12         2011  POSITIVE            23584\n",
      "13         2011  NEGATIVE             9573\n",
      "14         2012  POSITIVE            28741\n",
      "15         2012  NEGATIVE            12124\n",
      "16         2013  POSITIVE            38418\n",
      "17         2013  NEGATIVE            16625\n",
      "18         2014  POSITIVE            52210\n",
      "19         2014  NEGATIVE            22202\n",
      "20         2015  POSITIVE            68614\n",
      "21         2015  NEGATIVE            30002\n",
      "22         2016  POSITIVE            75386\n",
      "23         2016  NEGATIVE            32949\n",
      "24         2017  POSITIVE            81285\n",
      "25         2017  NEGATIVE            35696\n",
      "26         2018  POSITIVE            89884\n",
      "27         2018  NEGATIVE            39882\n",
      "28         2019  POSITIVE            88787\n",
      "29         2019  NEGATIVE            41069\n",
      "30         2020  POSITIVE            54042\n",
      "31         2020  NEGATIVE            25241\n",
      "32         2021  POSITIVE            58972\n",
      "33         2021  NEGATIVE            30218\n",
      "34         2022  POSITIVE             2946\n",
      "35         2022  NEGATIVE             1446\n"
     ]
    }
   ],
   "source": [
    "# SQL query to group by review_year and sentiment, and count the sentiment\n",
    "query = \"\"\"\n",
    "    SELECT review_year, sentiment, COUNT(*) AS sentiment_count\n",
    "    FROM df\n",
    "    GROUP BY review_year, sentiment\n",
    "    ORDER BY review_year, sentiment_count DESC;\n",
    "\"\"\"\n",
    "\n",
    "# Execute the query using pandasql\n",
    "result = psql.sqldf(query, locals())\n",
    "\n",
    "# Display the result\n",
    "print(result)"
   ]
  },
  {
   "cell_type": "markdown",
   "metadata": {
    "id": "MyI5RM1c7FhA"
   },
   "source": [
    "Sentiment by Review Length"
   ]
  },
  {
   "cell_type": "code",
   "execution_count": 40,
   "metadata": {
    "colab": {
     "base_uri": "https://localhost:8080/"
    },
    "id": "ZKbVVDHS62DO",
    "outputId": "e95c020b-7bcb-4b24-cfcb-8f7996f594c7"
   },
   "outputs": [
    {
     "name": "stdout",
     "output_type": "stream",
     "text": [
      "  sentiment  avg_review_length\n",
      "0  NEGATIVE         125.565663\n",
      "1  POSITIVE          88.733937\n"
     ]
    }
   ],
   "source": [
    "# SQL query to calculate average review length grouped by sentiment\n",
    "query = \"\"\"\n",
    "    SELECT sentiment, AVG(review_length) AS avg_review_length\n",
    "    FROM df\n",
    "    GROUP BY sentiment\n",
    "    ORDER BY avg_review_length DESC;\n",
    "\"\"\"\n",
    "\n",
    "# Execute the query using pandasql\n",
    "result = psql.sqldf(query, locals())\n",
    "\n",
    "# Display the result\n",
    "print(result)"
   ]
  },
  {
   "cell_type": "markdown",
   "metadata": {
    "id": "RAB-cO417alb"
   },
   "source": [
    "Sentiment Distribution by Business Category"
   ]
  },
  {
   "cell_type": "code",
   "execution_count": 41,
   "metadata": {
    "colab": {
     "base_uri": "https://localhost:8080/"
    },
    "id": "InB68lx97Q8x",
    "outputId": "fd1b9cf3-34a8-42d3-ca2d-6f0a20b16d34"
   },
   "outputs": [
    {
     "name": "stdout",
     "output_type": "stream",
     "text": [
      "                   business_id sentiment  sentiment_count\n",
      "0       ac1AeYqs8Z4_e2X5M3if2A  POSITIVE              867\n",
      "1       _ab50qdWOk0DdB6XOrBitw  POSITIVE              831\n",
      "2       GXFMD0Z4jEVZBCsbPf4CTQ  POSITIVE              733\n",
      "3       ytynqOUb3hjKeJfRj5Tshw  POSITIVE              698\n",
      "4       oBNrLz4EDhiscSlbOl8uAw  POSITIVE              629\n",
      "...                        ...       ...              ...\n",
      "191632  zziDpuuJw-Km1J4BaGpBKA  POSITIVE                1\n",
      "191633  zzjCxn89a7RQo8keIOO_Ag  NEGATIVE                1\n",
      "191634  zznJox6-nmXlGYNWgTDwQQ  POSITIVE                1\n",
      "191635  zzw66H6hVjXQEt0Js3Mo4A  NEGATIVE                1\n",
      "191636  zzw66H6hVjXQEt0Js3Mo4A  POSITIVE                1\n",
      "\n",
      "[191637 rows x 3 columns]\n"
     ]
    }
   ],
   "source": [
    "# SQL query to count sentiments for each business and sentiment combination\n",
    "query = \"\"\"\n",
    "    SELECT business_id, sentiment, COUNT(*) AS sentiment_count\n",
    "    FROM df\n",
    "    GROUP BY business_id, sentiment\n",
    "    ORDER BY sentiment_count DESC;\n",
    "\"\"\"\n",
    "\n",
    "# Execute the query using pandasql\n",
    "result = psql.sqldf(query, locals())\n",
    "\n",
    "# Display the result\n",
    "print(result)"
   ]
  },
  {
   "cell_type": "markdown",
   "metadata": {
    "id": "eWrxqGSG75si"
   },
   "source": [
    "Most Frequent Words in Positive vs Negative Reviews"
   ]
  },
  {
   "cell_type": "code",
   "execution_count": 42,
   "metadata": {
    "colab": {
     "base_uri": "https://localhost:8080/"
    },
    "id": "JN2L-g4A7shG",
    "outputId": "9286c9be-1316-4293-926f-e312cd54b602"
   },
   "outputs": [
    {
     "name": "stdout",
     "output_type": "stream",
     "text": [
      "   sentiment        word   count\n",
      "0   NEGATIVE        food  171561\n",
      "1   NEGATIVE        just  138500\n",
      "2   NEGATIVE       place  132439\n",
      "3   NEGATIVE        like  125084\n",
      "4   NEGATIVE        time  123062\n",
      "5   NEGATIVE        good  121835\n",
      "6   NEGATIVE     service  121215\n",
      "7   NEGATIVE       order   81166\n",
      "8   NEGATIVE         got   78629\n",
      "9   NEGATIVE         don   78528\n",
      "10  NEGATIVE        didn   74641\n",
      "11  NEGATIVE        said   71480\n",
      "12  NEGATIVE     ordered   71062\n",
      "13  NEGATIVE         did   68880\n",
      "14  NEGATIVE      really   66855\n",
      "15  NEGATIVE        told   65528\n",
      "16  NEGATIVE        came   63452\n",
      "17  NEGATIVE        went   60560\n",
      "18  NEGATIVE       great   59264\n",
      "19  NEGATIVE     minutes   58733\n",
      "20  POSITIVE       great  377380\n",
      "21  POSITIVE        good  343895\n",
      "22  POSITIVE        food  340687\n",
      "23  POSITIVE       place  315552\n",
      "24  POSITIVE     service  204758\n",
      "25  POSITIVE        time  187673\n",
      "26  POSITIVE        like  173540\n",
      "27  POSITIVE        just  171561\n",
      "28  POSITIVE      really  155129\n",
      "29  POSITIVE        best  146320\n",
      "30  POSITIVE   delicious  134868\n",
      "31  POSITIVE          ve  133518\n",
      "32  POSITIVE        nice  131395\n",
      "33  POSITIVE    friendly  126948\n",
      "34  POSITIVE        love  126710\n",
      "35  POSITIVE       staff  117786\n",
      "36  POSITIVE     amazing  117069\n",
      "37  POSITIVE  definitely  115020\n",
      "38  POSITIVE         got  108539\n",
      "39  POSITIVE         try   96813\n"
     ]
    }
   ],
   "source": [
    "from sklearn.feature_extraction.text import CountVectorizer\n",
    "\n",
    "# Function to get most common words for each sentiment\n",
    "def most_common_words(sentiment):\n",
    "    reviews = df[df['sentiment'] == sentiment]['text']\n",
    "    X = vectorizer.fit_transform(reviews)\n",
    "    words = vectorizer.get_feature_names_out()\n",
    "    word_count = X.toarray().sum(axis=0)\n",
    "    word_freq = list(zip(words, word_count))\n",
    "    word_freq_sorted = sorted(word_freq, key=lambda x: x[1], reverse=True)\n",
    "    return word_freq_sorted\n",
    "\n",
    "# Get most frequent words for positive and negative sentiments\n",
    "positive_words = most_common_words('POSITIVE')\n",
    "negative_words = most_common_words('NEGATIVE')\n",
    "\n",
    "# Create DataFrames for the words\n",
    "positive_df = pd.DataFrame(positive_words, columns=['word', 'count'])\n",
    "positive_df['sentiment'] = 'POSITIVE'\n",
    "\n",
    "negative_df = pd.DataFrame(negative_words, columns=['word', 'count'])\n",
    "negative_df['sentiment'] = 'NEGATIVE'\n",
    "\n",
    "# Combine the positive and negative DataFrames\n",
    "combined_df = pd.concat([positive_df, negative_df], ignore_index=True)\n",
    "\n",
    "# Query using pandasql\n",
    "query = \"\"\"\n",
    "    SELECT sentiment, word, count\n",
    "    FROM combined_df\n",
    "    ORDER BY sentiment, count DESC\n",
    "\"\"\"\n",
    "\n",
    "# Execute the query using pandasql\n",
    "result = psql.sqldf(query, locals())\n",
    "\n",
    "# Display the result\n",
    "print(result)\n"
   ]
  },
  {
   "cell_type": "markdown",
   "metadata": {
    "id": "g-jeHplb8LPs"
   },
   "source": [
    "Top 10 Reviews with Most 'Useful' Votes"
   ]
  },
  {
   "cell_type": "code",
   "execution_count": 43,
   "metadata": {
    "colab": {
     "base_uri": "https://localhost:8080/"
    },
    "id": "2nuGoYQr7hvH",
    "outputId": "5a03254b-41e2-4915-f4c2-525b3a0a6b99"
   },
   "outputs": [
    {
     "name": "stdout",
     "output_type": "stream",
     "text": [
      "                review_id                                               text  \\\n",
      "0  b0HBLNn02tkpC9rIyPRc_Q  Avoid at ALL costs.  Do NOT do business with D...   \n",
      "1  kTSpD7akIapty9AtLwJ11g  WORST COMPANY EVER!\\n\\nI had the unfortunate e...   \n",
      "2  KqMVXzlSMv7jRvt_raknMQ  Ultra upscale restaurant with outstanding food...   \n",
      "3  ZVlZ5CGSKE4gnpAIeSJMvg  Well executed restaurant in Reno. Very modern ...   \n",
      "4  IaIAHPgq1DCGlix_83fSlQ  A disappointment. Our server was charming, but...   \n",
      "5  DQhraLAoQaMND019yGr-zg  This place is one of the top 3 best restaurant...   \n",
      "6  NhiseboRNItRx2_Cg2hejw  Good food, OK wine list, horrid service; will ...   \n",
      "7  dYwpj-RSnXUAfJJXhBZMHg  Really hate to do this, since our past experie...   \n",
      "8  KvET6SuK_a9-45iLwAaO3g  I have been to this store several times over t...   \n",
      "9  R_l6aeULCXZ_Ww0H_XlWOQ  Now that everyone got to see me rocking my bra...   \n",
      "\n",
      "   useful  \n",
      "0    1182  \n",
      "1     997  \n",
      "2     359  \n",
      "3     358  \n",
      "4     332  \n",
      "5     260  \n",
      "6     240  \n",
      "7     226  \n",
      "8     225  \n",
      "9     198  \n"
     ]
    }
   ],
   "source": [
    "# SQL query to select review_id, text, useful and order by 'useful' in descending order\n",
    "query = \"\"\"\n",
    "    SELECT review_id, text, useful\n",
    "    FROM df\n",
    "    ORDER BY useful DESC\n",
    "    LIMIT 10\n",
    "\"\"\"\n",
    "\n",
    "# Execute the query using pandasql\n",
    "result = psql.sqldf(query, locals())\n",
    "\n",
    "# Display the result\n",
    "print(result)"
   ]
  },
  {
   "cell_type": "markdown",
   "metadata": {
    "id": "KPBfCv_t8iHc"
   },
   "source": [
    "Top Businesses with Most Positive Sentiment"
   ]
  },
  {
   "cell_type": "code",
   "execution_count": 47,
   "metadata": {
    "colab": {
     "base_uri": "https://localhost:8080/"
    },
    "id": "6G-mLLs98im8",
    "outputId": "cbc229b8-4000-403a-9e7f-91d0ba84386d"
   },
   "outputs": [
    {
     "name": "stdout",
     "output_type": "stream",
     "text": [
      "              business_id  positive_review_count\n",
      "0  ac1AeYqs8Z4_e2X5M3if2A                    867\n",
      "1  _ab50qdWOk0DdB6XOrBitw                    831\n",
      "2  GXFMD0Z4jEVZBCsbPf4CTQ                    733\n",
      "3  ytynqOUb3hjKeJfRj5Tshw                    698\n",
      "4  oBNrLz4EDhiscSlbOl8uAw                    629\n",
      "5  _C7QiQQc47AOEv4PE3Kong                    582\n",
      "6  GBTPC53ZrG1ZBY3DT8Mbcw                    555\n",
      "7  VQcCL9PiNL_wkGf-uF3fjg                    531\n",
      "8  gTC8IQ_i8zXytWSly3Ttvg                    521\n",
      "9  6a4gLLFSgr-Q6CZXDLzBGQ                    508\n"
     ]
    }
   ],
   "source": [
    "# SQL query to select business_id and count the number of positive reviews\n",
    "query = \"\"\"\n",
    "    SELECT business_id, COUNT(*) AS positive_review_count\n",
    "    FROM df\n",
    "    WHERE sentiment = 'POSITIVE'\n",
    "    GROUP BY business_id\n",
    "    ORDER BY positive_review_count DESC\n",
    "    LIMIT 10\n",
    "\"\"\"\n",
    "\n",
    "# Execute the query using pandasql\n",
    "result = psql.sqldf(query, locals())\n",
    "\n",
    "# Display the result\n",
    "print(result)"
   ]
  },
  {
   "cell_type": "markdown",
   "metadata": {
    "id": "d2D1EySY9FDk"
   },
   "source": [
    "Reviews with the Most 'Cool', 'Funny', or 'Useful' Votes"
   ]
  },
  {
   "cell_type": "code",
   "execution_count": 45,
   "metadata": {
    "colab": {
     "base_uri": "https://localhost:8080/"
    },
    "id": "YT1Oc9sc82rJ",
    "outputId": "1ce77447-d6d0-4e97-bba3-03bbad589eb0"
   },
   "outputs": [
    {
     "name": "stdout",
     "output_type": "stream",
     "text": [
      "                review_id                                               text  \\\n",
      "0  b0HBLNn02tkpC9rIyPRc_Q  Avoid at ALL costs.  Do NOT do business with D...   \n",
      "1  kTSpD7akIapty9AtLwJ11g  WORST COMPANY EVER!\\n\\nI had the unfortunate e...   \n",
      "2  KqMVXzlSMv7jRvt_raknMQ  Ultra upscale restaurant with outstanding food...   \n",
      "3  ZVlZ5CGSKE4gnpAIeSJMvg  Well executed restaurant in Reno. Very modern ...   \n",
      "4  IaIAHPgq1DCGlix_83fSlQ  A disappointment. Our server was charming, but...   \n",
      "5  DQhraLAoQaMND019yGr-zg  This place is one of the top 3 best restaurant...   \n",
      "6  NhiseboRNItRx2_Cg2hejw  Good food, OK wine list, horrid service; will ...   \n",
      "7  dYwpj-RSnXUAfJJXhBZMHg  Really hate to do this, since our past experie...   \n",
      "8  KvET6SuK_a9-45iLwAaO3g  I have been to this store several times over t...   \n",
      "9  R_l6aeULCXZ_Ww0H_XlWOQ  Now that everyone got to see me rocking my bra...   \n",
      "\n",
      "   cool  funny  useful  \n",
      "0     0      0    1182  \n",
      "1     0      0     997  \n",
      "2   359      1     359  \n",
      "3   358      0     358  \n",
      "4     0      0     332  \n",
      "5   260      3     260  \n",
      "6     0      2     240  \n",
      "7     0      1     226  \n",
      "8     8     22     225  \n",
      "9   192    177     198  \n"
     ]
    }
   ],
   "source": [
    "# SQL query to select review_id, text, cool, funny, useful, and order by 'useful' in descending order\n",
    "query = \"\"\"\n",
    "    SELECT review_id, text, cool, funny, useful\n",
    "    FROM df\n",
    "    ORDER BY useful DESC\n",
    "    LIMIT 10\n",
    "\"\"\"\n",
    "\n",
    "# Execute the query using pandasql\n",
    "result = psql.sqldf(query, locals())\n",
    "\n",
    "# Display the result\n",
    "print(result)"
   ]
  },
  {
   "cell_type": "markdown",
   "metadata": {
    "id": "edXAyBSa9LoZ"
   },
   "source": [
    "Top 10 Businesses with Most Negative Sentiment"
   ]
  },
  {
   "cell_type": "code",
   "execution_count": 46,
   "metadata": {
    "colab": {
     "base_uri": "https://localhost:8080/"
    },
    "id": "psL9xFqW9MKo",
    "outputId": "2b8fab1c-a82c-4420-e8e6-dd7021684863"
   },
   "outputs": [
    {
     "name": "stdout",
     "output_type": "stream",
     "text": [
      "              business_id  negative_review_count\n",
      "0  PP3BBaVxZLcJU54uP_wL6Q                    290\n",
      "1  iSRTaT9WngzB8JJ2YKJUig                    276\n",
      "2  IkY2ticzHEn4QFn8hQLSWg                    269\n",
      "3  wz8ZPfySQczcPgSyd33-HQ                    261\n",
      "4  _ab50qdWOk0DdB6XOrBitw                    260\n",
      "5  ac1AeYqs8Z4_e2X5M3if2A                    205\n",
      "6  -QI8Qi8XWH3D8y8ethnajA                    196\n",
      "7  VQcCL9PiNL_wkGf-uF3fjg                    193\n",
      "8  ve_-rPlEGPClytyJtY55Vw                    183\n",
      "9  Eb1XmmLWyt_way5NNZ7-Pw                    167\n"
     ]
    }
   ],
   "source": [
    "# SQL query to select business_id and count the number of negative reviews\n",
    "query = \"\"\"\n",
    "    SELECT business_id, COUNT(*) AS negative_review_count\n",
    "    FROM df\n",
    "    WHERE sentiment = 'NEGATIVE'\n",
    "    GROUP BY business_id\n",
    "    ORDER BY negative_review_count DESC\n",
    "    LIMIT 10\n",
    "\"\"\"\n",
    "\n",
    "# Execute the query using pandasql\n",
    "result = psql.sqldf(query, locals())\n",
    "\n",
    "# Display the result\n",
    "print(result)"
   ]
  },
  {
   "cell_type": "code",
   "execution_count": null,
   "metadata": {
    "id": "sPhTVMZu9h8A"
   },
   "outputs": [],
   "source": []
  }
 ],
 "metadata": {
  "colab": {
   "provenance": []
  },
  "kernelspec": {
   "display_name": "Python 3 (ipykernel)",
   "language": "python",
   "name": "python3"
  },
  "language_info": {
   "codemirror_mode": {
    "name": "ipython",
    "version": 3
   },
   "file_extension": ".py",
   "mimetype": "text/x-python",
   "name": "python",
   "nbconvert_exporter": "python",
   "pygments_lexer": "ipython3",
   "version": "3.11.5"
  }
 },
 "nbformat": 4,
 "nbformat_minor": 1
}
